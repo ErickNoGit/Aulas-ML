{
  "nbformat": 4,
  "nbformat_minor": 0,
  "metadata": {
    "colab": {
      "provenance": [],
      "authorship_tag": "ABX9TyO6Wy6tVAlVfeovQ3aQvlKT",
      "include_colab_link": true
    },
    "kernelspec": {
      "name": "python3",
      "display_name": "Python 3"
    },
    "language_info": {
      "name": "python"
    }
  },
  "cells": [
    {
      "cell_type": "markdown",
      "metadata": {
        "id": "view-in-github",
        "colab_type": "text"
      },
      "source": [
        "<a href=\"https://colab.research.google.com/github/ErickNoGit/Aulas-ML/blob/main/Aula_08_2.ipynb\" target=\"_parent\"><img src=\"https://colab.research.google.com/assets/colab-badge.svg\" alt=\"Open In Colab\"/></a>"
      ]
    },
    {
      "cell_type": "code",
      "execution_count": 110,
      "metadata": {
        "id": "qrCG26_YszbK"
      },
      "outputs": [],
      "source": [
        "#import os pacotes\n",
        "import numpy as np\n",
        "import pandas as pd\n",
        "import matplotlib.pyplot as plt\n",
        "plt.style.use('seaborn-talk') #um estilo pronto"
      ]
    },
    {
      "cell_type": "code",
      "source": [
        "dados = pd.read_csv('/content/Dados-Pesquisa.csv')"
      ],
      "metadata": {
        "colab": {
          "base_uri": "https://localhost:8080/"
        },
        "id": "tPdo9rGCtNoZ",
        "outputId": "4a0f6739-ab59-455e-ea32-33be6dd158a2"
      },
      "execution_count": 111,
      "outputs": [
        {
          "output_type": "stream",
          "name": "stderr",
          "text": [
            "/usr/local/lib/python3.8/dist-packages/IPython/core/interactiveshell.py:3326: DtypeWarning: Columns (21,57) have mixed types.Specify dtype option on import or set low_memory=False.\n",
            "  exec(code_obj, self.user_global_ns, self.user_ns)\n"
          ]
        }
      ]
    },
    {
      "cell_type": "code",
      "source": [
        "#Imprimir cabeçalho\n",
        "dados.head()"
      ],
      "metadata": {
        "id": "HlOp2x7etRnE",
        "colab": {
          "base_uri": "https://localhost:8080/",
          "height": 473
        },
        "outputId": "edee39b7-fafe-4eac-fce6-cd0bd9d71ad3"
      },
      "execution_count": 112,
      "outputs": [
        {
          "output_type": "execute_result",
          "data": {
            "text/plain": [
              "    Age  AttendedBootcamp  BootcampFinish  BootcampFullJobAfter  \\\n",
              "0  28.0               0.0             NaN                   NaN   \n",
              "1  22.0               0.0             NaN                   NaN   \n",
              "2  19.0               0.0             NaN                   NaN   \n",
              "3  26.0               0.0             NaN                   NaN   \n",
              "4  20.0               0.0             NaN                   NaN   \n",
              "\n",
              "   BootcampLoanYesNo  BootcampMonthsAgo BootcampName  BootcampPostSalary  \\\n",
              "0                NaN                NaN          NaN                 NaN   \n",
              "1                NaN                NaN          NaN                 NaN   \n",
              "2                NaN                NaN          NaN                 NaN   \n",
              "3                NaN                NaN          NaN                 NaN   \n",
              "4                NaN                NaN          NaN                 NaN   \n",
              "\n",
              "   BootcampRecommend  ChildrenNumber  ... ResourceSoloLearn  \\\n",
              "0                NaN             NaN  ...               NaN   \n",
              "1                NaN             NaN  ...               NaN   \n",
              "2                NaN             NaN  ...               NaN   \n",
              "3                NaN             NaN  ...               NaN   \n",
              "4                NaN             NaN  ...               NaN   \n",
              "\n",
              "   ResourceStackOverflow  ResourceTreehouse  ResourceUdacity  ResourceUdemy  \\\n",
              "0                    NaN                NaN              NaN            NaN   \n",
              "1                    NaN                NaN              NaN            1.0   \n",
              "2                    NaN                NaN              NaN            NaN   \n",
              "3                    NaN                NaN              NaN            NaN   \n",
              "4                    NaN                NaN              NaN            NaN   \n",
              "\n",
              "   ResourceW3Schools  ResourceYouTube  \\\n",
              "0                NaN              NaN   \n",
              "1                NaN              NaN   \n",
              "2                NaN              NaN   \n",
              "3                NaN              NaN   \n",
              "4                NaN              NaN   \n",
              "\n",
              "                              SchoolDegree              SchoolMajor  \\\n",
              "0           some college credit, no degree                      NaN   \n",
              "1           some college credit, no degree                      NaN   \n",
              "2  high school diploma or equivalent (GED)                      NaN   \n",
              "3                        bachelor's degree  Cinematography And Film   \n",
              "4           some college credit, no degree                      NaN   \n",
              "\n",
              "   StudentDebtOwe  \n",
              "0         20000.0  \n",
              "1             NaN  \n",
              "2             NaN  \n",
              "3          7000.0  \n",
              "4             NaN  \n",
              "\n",
              "[5 rows x 113 columns]"
            ],
            "text/html": [
              "\n",
              "  <div id=\"df-dd369f45-1679-42fb-9501-4f7c55fdf206\">\n",
              "    <div class=\"colab-df-container\">\n",
              "      <div>\n",
              "<style scoped>\n",
              "    .dataframe tbody tr th:only-of-type {\n",
              "        vertical-align: middle;\n",
              "    }\n",
              "\n",
              "    .dataframe tbody tr th {\n",
              "        vertical-align: top;\n",
              "    }\n",
              "\n",
              "    .dataframe thead th {\n",
              "        text-align: right;\n",
              "    }\n",
              "</style>\n",
              "<table border=\"1\" class=\"dataframe\">\n",
              "  <thead>\n",
              "    <tr style=\"text-align: right;\">\n",
              "      <th></th>\n",
              "      <th>Age</th>\n",
              "      <th>AttendedBootcamp</th>\n",
              "      <th>BootcampFinish</th>\n",
              "      <th>BootcampFullJobAfter</th>\n",
              "      <th>BootcampLoanYesNo</th>\n",
              "      <th>BootcampMonthsAgo</th>\n",
              "      <th>BootcampName</th>\n",
              "      <th>BootcampPostSalary</th>\n",
              "      <th>BootcampRecommend</th>\n",
              "      <th>ChildrenNumber</th>\n",
              "      <th>...</th>\n",
              "      <th>ResourceSoloLearn</th>\n",
              "      <th>ResourceStackOverflow</th>\n",
              "      <th>ResourceTreehouse</th>\n",
              "      <th>ResourceUdacity</th>\n",
              "      <th>ResourceUdemy</th>\n",
              "      <th>ResourceW3Schools</th>\n",
              "      <th>ResourceYouTube</th>\n",
              "      <th>SchoolDegree</th>\n",
              "      <th>SchoolMajor</th>\n",
              "      <th>StudentDebtOwe</th>\n",
              "    </tr>\n",
              "  </thead>\n",
              "  <tbody>\n",
              "    <tr>\n",
              "      <th>0</th>\n",
              "      <td>28.0</td>\n",
              "      <td>0.0</td>\n",
              "      <td>NaN</td>\n",
              "      <td>NaN</td>\n",
              "      <td>NaN</td>\n",
              "      <td>NaN</td>\n",
              "      <td>NaN</td>\n",
              "      <td>NaN</td>\n",
              "      <td>NaN</td>\n",
              "      <td>NaN</td>\n",
              "      <td>...</td>\n",
              "      <td>NaN</td>\n",
              "      <td>NaN</td>\n",
              "      <td>NaN</td>\n",
              "      <td>NaN</td>\n",
              "      <td>NaN</td>\n",
              "      <td>NaN</td>\n",
              "      <td>NaN</td>\n",
              "      <td>some college credit, no degree</td>\n",
              "      <td>NaN</td>\n",
              "      <td>20000.0</td>\n",
              "    </tr>\n",
              "    <tr>\n",
              "      <th>1</th>\n",
              "      <td>22.0</td>\n",
              "      <td>0.0</td>\n",
              "      <td>NaN</td>\n",
              "      <td>NaN</td>\n",
              "      <td>NaN</td>\n",
              "      <td>NaN</td>\n",
              "      <td>NaN</td>\n",
              "      <td>NaN</td>\n",
              "      <td>NaN</td>\n",
              "      <td>NaN</td>\n",
              "      <td>...</td>\n",
              "      <td>NaN</td>\n",
              "      <td>NaN</td>\n",
              "      <td>NaN</td>\n",
              "      <td>NaN</td>\n",
              "      <td>1.0</td>\n",
              "      <td>NaN</td>\n",
              "      <td>NaN</td>\n",
              "      <td>some college credit, no degree</td>\n",
              "      <td>NaN</td>\n",
              "      <td>NaN</td>\n",
              "    </tr>\n",
              "    <tr>\n",
              "      <th>2</th>\n",
              "      <td>19.0</td>\n",
              "      <td>0.0</td>\n",
              "      <td>NaN</td>\n",
              "      <td>NaN</td>\n",
              "      <td>NaN</td>\n",
              "      <td>NaN</td>\n",
              "      <td>NaN</td>\n",
              "      <td>NaN</td>\n",
              "      <td>NaN</td>\n",
              "      <td>NaN</td>\n",
              "      <td>...</td>\n",
              "      <td>NaN</td>\n",
              "      <td>NaN</td>\n",
              "      <td>NaN</td>\n",
              "      <td>NaN</td>\n",
              "      <td>NaN</td>\n",
              "      <td>NaN</td>\n",
              "      <td>NaN</td>\n",
              "      <td>high school diploma or equivalent (GED)</td>\n",
              "      <td>NaN</td>\n",
              "      <td>NaN</td>\n",
              "    </tr>\n",
              "    <tr>\n",
              "      <th>3</th>\n",
              "      <td>26.0</td>\n",
              "      <td>0.0</td>\n",
              "      <td>NaN</td>\n",
              "      <td>NaN</td>\n",
              "      <td>NaN</td>\n",
              "      <td>NaN</td>\n",
              "      <td>NaN</td>\n",
              "      <td>NaN</td>\n",
              "      <td>NaN</td>\n",
              "      <td>NaN</td>\n",
              "      <td>...</td>\n",
              "      <td>NaN</td>\n",
              "      <td>NaN</td>\n",
              "      <td>NaN</td>\n",
              "      <td>NaN</td>\n",
              "      <td>NaN</td>\n",
              "      <td>NaN</td>\n",
              "      <td>NaN</td>\n",
              "      <td>bachelor's degree</td>\n",
              "      <td>Cinematography And Film</td>\n",
              "      <td>7000.0</td>\n",
              "    </tr>\n",
              "    <tr>\n",
              "      <th>4</th>\n",
              "      <td>20.0</td>\n",
              "      <td>0.0</td>\n",
              "      <td>NaN</td>\n",
              "      <td>NaN</td>\n",
              "      <td>NaN</td>\n",
              "      <td>NaN</td>\n",
              "      <td>NaN</td>\n",
              "      <td>NaN</td>\n",
              "      <td>NaN</td>\n",
              "      <td>NaN</td>\n",
              "      <td>...</td>\n",
              "      <td>NaN</td>\n",
              "      <td>NaN</td>\n",
              "      <td>NaN</td>\n",
              "      <td>NaN</td>\n",
              "      <td>NaN</td>\n",
              "      <td>NaN</td>\n",
              "      <td>NaN</td>\n",
              "      <td>some college credit, no degree</td>\n",
              "      <td>NaN</td>\n",
              "      <td>NaN</td>\n",
              "    </tr>\n",
              "  </tbody>\n",
              "</table>\n",
              "<p>5 rows × 113 columns</p>\n",
              "</div>\n",
              "      <button class=\"colab-df-convert\" onclick=\"convertToInteractive('df-dd369f45-1679-42fb-9501-4f7c55fdf206')\"\n",
              "              title=\"Convert this dataframe to an interactive table.\"\n",
              "              style=\"display:none;\">\n",
              "        \n",
              "  <svg xmlns=\"http://www.w3.org/2000/svg\" height=\"24px\"viewBox=\"0 0 24 24\"\n",
              "       width=\"24px\">\n",
              "    <path d=\"M0 0h24v24H0V0z\" fill=\"none\"/>\n",
              "    <path d=\"M18.56 5.44l.94 2.06.94-2.06 2.06-.94-2.06-.94-.94-2.06-.94 2.06-2.06.94zm-11 1L8.5 8.5l.94-2.06 2.06-.94-2.06-.94L8.5 2.5l-.94 2.06-2.06.94zm10 10l.94 2.06.94-2.06 2.06-.94-2.06-.94-.94-2.06-.94 2.06-2.06.94z\"/><path d=\"M17.41 7.96l-1.37-1.37c-.4-.4-.92-.59-1.43-.59-.52 0-1.04.2-1.43.59L10.3 9.45l-7.72 7.72c-.78.78-.78 2.05 0 2.83L4 21.41c.39.39.9.59 1.41.59.51 0 1.02-.2 1.41-.59l7.78-7.78 2.81-2.81c.8-.78.8-2.07 0-2.86zM5.41 20L4 18.59l7.72-7.72 1.47 1.35L5.41 20z\"/>\n",
              "  </svg>\n",
              "      </button>\n",
              "      \n",
              "  <style>\n",
              "    .colab-df-container {\n",
              "      display:flex;\n",
              "      flex-wrap:wrap;\n",
              "      gap: 12px;\n",
              "    }\n",
              "\n",
              "    .colab-df-convert {\n",
              "      background-color: #E8F0FE;\n",
              "      border: none;\n",
              "      border-radius: 50%;\n",
              "      cursor: pointer;\n",
              "      display: none;\n",
              "      fill: #1967D2;\n",
              "      height: 32px;\n",
              "      padding: 0 0 0 0;\n",
              "      width: 32px;\n",
              "    }\n",
              "\n",
              "    .colab-df-convert:hover {\n",
              "      background-color: #E2EBFA;\n",
              "      box-shadow: 0px 1px 2px rgba(60, 64, 67, 0.3), 0px 1px 3px 1px rgba(60, 64, 67, 0.15);\n",
              "      fill: #174EA6;\n",
              "    }\n",
              "\n",
              "    [theme=dark] .colab-df-convert {\n",
              "      background-color: #3B4455;\n",
              "      fill: #D2E3FC;\n",
              "    }\n",
              "\n",
              "    [theme=dark] .colab-df-convert:hover {\n",
              "      background-color: #434B5C;\n",
              "      box-shadow: 0px 1px 3px 1px rgba(0, 0, 0, 0.15);\n",
              "      filter: drop-shadow(0px 1px 2px rgba(0, 0, 0, 0.3));\n",
              "      fill: #FFFFFF;\n",
              "    }\n",
              "  </style>\n",
              "\n",
              "      <script>\n",
              "        const buttonEl =\n",
              "          document.querySelector('#df-dd369f45-1679-42fb-9501-4f7c55fdf206 button.colab-df-convert');\n",
              "        buttonEl.style.display =\n",
              "          google.colab.kernel.accessAllowed ? 'block' : 'none';\n",
              "\n",
              "        async function convertToInteractive(key) {\n",
              "          const element = document.querySelector('#df-dd369f45-1679-42fb-9501-4f7c55fdf206');\n",
              "          const dataTable =\n",
              "            await google.colab.kernel.invokeFunction('convertToInteractive',\n",
              "                                                     [key], {});\n",
              "          if (!dataTable) return;\n",
              "\n",
              "          const docLinkHtml = 'Like what you see? Visit the ' +\n",
              "            '<a target=\"_blank\" href=https://colab.research.google.com/notebooks/data_table.ipynb>data table notebook</a>'\n",
              "            + ' to learn more about interactive tables.';\n",
              "          element.innerHTML = '';\n",
              "          dataTable['output_type'] = 'display_data';\n",
              "          await google.colab.output.renderOutput(dataTable, element);\n",
              "          const docLink = document.createElement('div');\n",
              "          docLink.innerHTML = docLinkHtml;\n",
              "          element.appendChild(docLink);\n",
              "        }\n",
              "      </script>\n",
              "    </div>\n",
              "  </div>\n",
              "  "
            ]
          },
          "metadata": {},
          "execution_count": 112
        }
      ]
    },
    {
      "cell_type": "code",
      "source": [
        "dados.shape"
      ],
      "metadata": {
        "colab": {
          "base_uri": "https://localhost:8080/"
        },
        "id": "WbXefmRBvdei",
        "outputId": "37d19708-bc7b-4532-9002-dd2d67d4f9ce"
      },
      "execution_count": 113,
      "outputs": [
        {
          "output_type": "execute_result",
          "data": {
            "text/plain": [
              "(15620, 113)"
            ]
          },
          "metadata": {},
          "execution_count": 113
        }
      ]
    },
    {
      "cell_type": "code",
      "source": [
        "dados.info"
      ],
      "metadata": {
        "colab": {
          "base_uri": "https://localhost:8080/"
        },
        "id": "TinjFcUBwstk",
        "outputId": "a23acce6-2d7b-464e-8945-abb317186518"
      },
      "execution_count": 114,
      "outputs": [
        {
          "output_type": "execute_result",
          "data": {
            "text/plain": [
              "<bound method DataFrame.info of         Age  AttendedBootcamp  BootcampFinish  BootcampFullJobAfter  \\\n",
              "0      28.0               0.0             NaN                   NaN   \n",
              "1      22.0               0.0             NaN                   NaN   \n",
              "2      19.0               0.0             NaN                   NaN   \n",
              "3      26.0               0.0             NaN                   NaN   \n",
              "4      20.0               0.0             NaN                   NaN   \n",
              "...     ...               ...             ...                   ...   \n",
              "15615  39.0               0.0             NaN                   NaN   \n",
              "15616  27.0               0.0             NaN                   NaN   \n",
              "15617  37.0               0.0             NaN                   NaN   \n",
              "15618  26.0               0.0             NaN                   NaN   \n",
              "15619  22.0               0.0             NaN                   NaN   \n",
              "\n",
              "       BootcampLoanYesNo  BootcampMonthsAgo BootcampName  BootcampPostSalary  \\\n",
              "0                    NaN                NaN          NaN                 NaN   \n",
              "1                    NaN                NaN          NaN                 NaN   \n",
              "2                    NaN                NaN          NaN                 NaN   \n",
              "3                    NaN                NaN          NaN                 NaN   \n",
              "4                    NaN                NaN          NaN                 NaN   \n",
              "...                  ...                ...          ...                 ...   \n",
              "15615                NaN                NaN          NaN                 NaN   \n",
              "15616                NaN                NaN          NaN                 NaN   \n",
              "15617                NaN                NaN          NaN                 NaN   \n",
              "15618                NaN                NaN          NaN                 NaN   \n",
              "15619                NaN                NaN          NaN                 NaN   \n",
              "\n",
              "       BootcampRecommend  ChildrenNumber  ... ResourceSoloLearn  \\\n",
              "0                    NaN             NaN  ...               NaN   \n",
              "1                    NaN             NaN  ...               NaN   \n",
              "2                    NaN             NaN  ...               NaN   \n",
              "3                    NaN             NaN  ...               NaN   \n",
              "4                    NaN             NaN  ...               NaN   \n",
              "...                  ...             ...  ...               ...   \n",
              "15615                NaN             NaN  ...               NaN   \n",
              "15616                NaN             NaN  ...               NaN   \n",
              "15617                NaN             NaN  ...               NaN   \n",
              "15618                NaN             NaN  ...               NaN   \n",
              "15619                NaN             NaN  ...               NaN   \n",
              "\n",
              "       ResourceStackOverflow  ResourceTreehouse  ResourceUdacity  \\\n",
              "0                        NaN                NaN              NaN   \n",
              "1                        NaN                NaN              NaN   \n",
              "2                        NaN                NaN              NaN   \n",
              "3                        NaN                NaN              NaN   \n",
              "4                        NaN                NaN              NaN   \n",
              "...                      ...                ...              ...   \n",
              "15615                    NaN                NaN              NaN   \n",
              "15616                    NaN                1.0              NaN   \n",
              "15617                    NaN                NaN              NaN   \n",
              "15618                    NaN                NaN              NaN   \n",
              "15619                    NaN                NaN              NaN   \n",
              "\n",
              "       ResourceUdemy  ResourceW3Schools  ResourceYouTube  \\\n",
              "0                NaN                NaN              NaN   \n",
              "1                1.0                NaN              NaN   \n",
              "2                NaN                NaN              NaN   \n",
              "3                NaN                NaN              NaN   \n",
              "4                NaN                NaN              NaN   \n",
              "...              ...                ...              ...   \n",
              "15615            1.0                NaN              NaN   \n",
              "15616            NaN                NaN              NaN   \n",
              "15617            NaN                NaN              NaN   \n",
              "15618            1.0                NaN              NaN   \n",
              "15619            NaN                NaN              NaN   \n",
              "\n",
              "                                  SchoolDegree              SchoolMajor  \\\n",
              "0               some college credit, no degree                      NaN   \n",
              "1               some college credit, no degree                      NaN   \n",
              "2      high school diploma or equivalent (GED)                      NaN   \n",
              "3                            bachelor's degree  Cinematography And Film   \n",
              "4               some college credit, no degree                      NaN   \n",
              "...                                        ...                      ...   \n",
              "15615                        bachelor's degree                Chemistry   \n",
              "15616                        bachelor's degree   Electrical Engineering   \n",
              "15617                        bachelor's degree                Chemistry   \n",
              "15618       master's degree (non-professional)                     Math   \n",
              "15619                        bachelor's degree           Graphic Design   \n",
              "\n",
              "       StudentDebtOwe  \n",
              "0             20000.0  \n",
              "1                 NaN  \n",
              "2                 NaN  \n",
              "3              7000.0  \n",
              "4                 NaN  \n",
              "...               ...  \n",
              "15615             NaN  \n",
              "15616             NaN  \n",
              "15617             NaN  \n",
              "15618             NaN  \n",
              "15619         40000.0  \n",
              "\n",
              "[15620 rows x 113 columns]>"
            ]
          },
          "metadata": {},
          "execution_count": 114
        }
      ]
    },
    {
      "cell_type": "code",
      "source": [
        "dados.columns.to_list()"
      ],
      "metadata": {
        "colab": {
          "base_uri": "https://localhost:8080/"
        },
        "id": "e_nREI-Ww_-0",
        "outputId": "4198c764-0c85-4528-b6b4-88dfc9197e77"
      },
      "execution_count": 115,
      "outputs": [
        {
          "output_type": "execute_result",
          "data": {
            "text/plain": [
              "['Age',\n",
              " 'AttendedBootcamp',\n",
              " 'BootcampFinish',\n",
              " 'BootcampFullJobAfter',\n",
              " 'BootcampLoanYesNo',\n",
              " 'BootcampMonthsAgo',\n",
              " 'BootcampName',\n",
              " 'BootcampPostSalary',\n",
              " 'BootcampRecommend',\n",
              " 'ChildrenNumber',\n",
              " 'CityPopulation',\n",
              " 'CodeEventBootcamp',\n",
              " 'CodeEventCoffee',\n",
              " 'CodeEventConferences',\n",
              " 'CodeEventDjangoGirls',\n",
              " 'CodeEventGameJam',\n",
              " 'CodeEventGirlDev',\n",
              " 'CodeEventHackathons',\n",
              " 'CodeEventMeetup',\n",
              " 'CodeEventNodeSchool',\n",
              " 'CodeEventNone',\n",
              " 'CodeEventOther',\n",
              " 'CodeEventRailsBridge',\n",
              " 'CodeEventRailsGirls',\n",
              " 'CodeEventStartUpWknd',\n",
              " 'CodeEventWomenCode',\n",
              " 'CodeEventWorkshop',\n",
              " 'CommuteTime',\n",
              " 'CountryCitizen',\n",
              " 'CountryLive',\n",
              " 'EmploymentField',\n",
              " 'EmploymentFieldOther',\n",
              " 'EmploymentStatus',\n",
              " 'EmploymentStatusOther',\n",
              " 'ExpectedEarning',\n",
              " 'FinanciallySupporting',\n",
              " 'Gender',\n",
              " 'HasChildren',\n",
              " 'HasDebt',\n",
              " 'HasFinancialDependents',\n",
              " 'HasHighSpdInternet',\n",
              " 'HasHomeMortgage',\n",
              " 'HasServedInMilitary',\n",
              " 'HasStudentDebt',\n",
              " 'HomeMortgageOwe',\n",
              " 'HoursLearning',\n",
              " 'ID.x',\n",
              " 'ID.y',\n",
              " 'Income',\n",
              " 'IsEthnicMinority',\n",
              " 'IsReceiveDiabilitiesBenefits',\n",
              " 'IsSoftwareDev',\n",
              " 'IsUnderEmployed',\n",
              " 'JobApplyWhen',\n",
              " 'JobPref',\n",
              " 'JobRelocateYesNo',\n",
              " 'JobRoleInterest',\n",
              " 'JobRoleInterestOther',\n",
              " 'JobWherePref',\n",
              " 'LanguageAtHome',\n",
              " 'MaritalStatus',\n",
              " 'MoneyForLearning',\n",
              " 'MonthsProgramming',\n",
              " 'NetworkID',\n",
              " 'Part1EndTime',\n",
              " 'Part1StartTime',\n",
              " 'Part2EndTime',\n",
              " 'Part2StartTime',\n",
              " 'PodcastChangeLog',\n",
              " 'PodcastCodeNewbie',\n",
              " 'PodcastCodingBlocks',\n",
              " 'PodcastDeveloperTea',\n",
              " 'PodcastDotNetRocks',\n",
              " 'PodcastHanselminutes',\n",
              " 'PodcastJSJabber',\n",
              " 'PodcastJsAir',\n",
              " 'PodcastNone',\n",
              " 'PodcastOther',\n",
              " 'PodcastProgrammingThrowDown',\n",
              " 'PodcastRubyRogues',\n",
              " 'PodcastSEDaily',\n",
              " 'PodcastShopTalk',\n",
              " 'PodcastTalkPython',\n",
              " 'PodcastWebAhead',\n",
              " 'ResourceBlogs',\n",
              " 'ResourceBooks',\n",
              " 'ResourceCodeWars',\n",
              " 'ResourceCodecademy',\n",
              " 'ResourceCoursera',\n",
              " 'ResourceDevTips',\n",
              " 'ResourceEdX',\n",
              " 'ResourceEggHead',\n",
              " 'ResourceFCC',\n",
              " 'ResourceGoogle',\n",
              " 'ResourceHackerRank',\n",
              " 'ResourceKhanAcademy',\n",
              " 'ResourceLynda',\n",
              " 'ResourceMDN',\n",
              " 'ResourceOdinProj',\n",
              " 'ResourceOther',\n",
              " 'ResourcePluralSight',\n",
              " 'ResourceReddit',\n",
              " 'ResourceSkillCrush',\n",
              " 'ResourceSoloLearn',\n",
              " 'ResourceStackOverflow',\n",
              " 'ResourceTreehouse',\n",
              " 'ResourceUdacity',\n",
              " 'ResourceUdemy',\n",
              " 'ResourceW3Schools',\n",
              " 'ResourceYouTube',\n",
              " 'SchoolDegree',\n",
              " 'SchoolMajor',\n",
              " 'StudentDebtOwe']"
            ]
          },
          "metadata": {},
          "execution_count": 115
        }
      ]
    },
    {
      "cell_type": "code",
      "source": [
        "df2 = dados.copy()"
      ],
      "metadata": {
        "id": "QjKrmh8dxQH7"
      },
      "execution_count": 116,
      "outputs": []
    },
    {
      "cell_type": "code",
      "source": [
        "dados.isna().sum()"
      ],
      "metadata": {
        "colab": {
          "base_uri": "https://localhost:8080/"
        },
        "id": "G6QI2hmSxUxL",
        "outputId": "f78f473e-fd08-4400-e782-24ee6ae5affb"
      },
      "execution_count": 117,
      "outputs": [
        {
          "output_type": "execute_result",
          "data": {
            "text/plain": [
              "Age                      2007\n",
              "AttendedBootcamp          240\n",
              "BootcampFinish          14687\n",
              "BootcampFullJobAfter    14985\n",
              "BootcampLoanYesNo       14686\n",
              "                        ...  \n",
              "ResourceW3Schools       15499\n",
              "ResourceYouTube         15499\n",
              "SchoolDegree             1941\n",
              "SchoolMajor              7170\n",
              "StudentDebtOwe          12106\n",
              "Length: 113, dtype: int64"
            ]
          },
          "metadata": {},
          "execution_count": 117
        }
      ]
    },
    {
      "cell_type": "code",
      "source": [
        "dados.isna().sum().sum()"
      ],
      "metadata": {
        "colab": {
          "base_uri": "https://localhost:8080/"
        },
        "id": "3KGVdxUcxZGE",
        "outputId": "c6d65792-de35-448f-de1b-42cb94e8f6de"
      },
      "execution_count": 118,
      "outputs": [
        {
          "output_type": "execute_result",
          "data": {
            "text/plain": [
              "1183948"
            ]
          },
          "metadata": {},
          "execution_count": 118
        }
      ]
    },
    {
      "cell_type": "code",
      "source": [
        "dados.dropna(subset = ['Age'], inplace = True)"
      ],
      "metadata": {
        "id": "kQeGwmcgxoNc"
      },
      "execution_count": 119,
      "outputs": []
    },
    {
      "cell_type": "code",
      "source": [
        "dados.isna().sum()"
      ],
      "metadata": {
        "colab": {
          "base_uri": "https://localhost:8080/"
        },
        "id": "8jKEqZP2yBOE",
        "outputId": "e5f03dc6-448c-44dd-c440-1987c34d4b3f"
      },
      "execution_count": 120,
      "outputs": [
        {
          "output_type": "execute_result",
          "data": {
            "text/plain": [
              "Age                         0\n",
              "AttendedBootcamp          112\n",
              "BootcampFinish          12809\n",
              "BootcampFullJobAfter    13068\n",
              "BootcampLoanYesNo       12805\n",
              "                        ...  \n",
              "ResourceW3Schools       13508\n",
              "ResourceYouTube         13506\n",
              "SchoolDegree              113\n",
              "SchoolMajor              5265\n",
              "StudentDebtOwe          10121\n",
              "Length: 113, dtype: int64"
            ]
          },
          "metadata": {},
          "execution_count": 120
        }
      ]
    },
    {
      "cell_type": "code",
      "source": [
        "dados.isna().sum().sum()"
      ],
      "metadata": {
        "colab": {
          "base_uri": "https://localhost:8080/"
        },
        "id": "std_ES-HyEdN",
        "outputId": "6e7d5206-3bb9-441d-c823-2099ab01290f"
      },
      "execution_count": 121,
      "outputs": [
        {
          "output_type": "execute_result",
          "data": {
            "text/plain": [
              "994850"
            ]
          },
          "metadata": {},
          "execution_count": 121
        }
      ]
    },
    {
      "cell_type": "code",
      "source": [
        "dados.isna().mean()"
      ],
      "metadata": {
        "colab": {
          "base_uri": "https://localhost:8080/"
        },
        "id": "m1-zbRjlyatV",
        "outputId": "65e99130-caeb-4fde-b754-9dec559e9246"
      },
      "execution_count": 122,
      "outputs": [
        {
          "output_type": "execute_result",
          "data": {
            "text/plain": [
              "Age                     0.000000\n",
              "AttendedBootcamp        0.008227\n",
              "BootcampFinish          0.940939\n",
              "BootcampFullJobAfter    0.959965\n",
              "BootcampLoanYesNo       0.940645\n",
              "                          ...   \n",
              "ResourceW3Schools       0.992287\n",
              "ResourceYouTube         0.992140\n",
              "SchoolDegree            0.008301\n",
              "SchoolMajor             0.386763\n",
              "StudentDebtOwe          0.743480\n",
              "Length: 113, dtype: float64"
            ]
          },
          "metadata": {},
          "execution_count": 122
        }
      ]
    },
    {
      "cell_type": "code",
      "source": [
        "print('A base de dados apresenta {} linhas e {} colunas'.format(dados.shape[0], dados.shape[1]))"
      ],
      "metadata": {
        "colab": {
          "base_uri": "https://localhost:8080/"
        },
        "id": "OQFSGPQIyf8t",
        "outputId": "ed505c7b-3bb9-42b1-9109-7e1e4dc5370a"
      },
      "execution_count": 123,
      "outputs": [
        {
          "output_type": "stream",
          "name": "stdout",
          "text": [
            "A base de dados apresenta 13613 linhas e 113 colunas\n"
          ]
        }
      ]
    },
    {
      "cell_type": "code",
      "source": [
        "dados.dtypes.value_counts()"
      ],
      "metadata": {
        "colab": {
          "base_uri": "https://localhost:8080/"
        },
        "id": "SG6lyb3Dy4b8",
        "outputId": "658485f4-b57d-4369-cc15-9a88825d3030"
      },
      "execution_count": 124,
      "outputs": [
        {
          "output_type": "execute_result",
          "data": {
            "text/plain": [
              "float64    85\n",
              "object     28\n",
              "dtype: int64"
            ]
          },
          "metadata": {},
          "execution_count": 124
        }
      ]
    },
    {
      "cell_type": "code",
      "source": [
        "#criando um novo dataFrame com as colunas que queremos\n",
        "dados = dados[['Age', 'Gender', 'JobPref',\n",
        "                'JobRoleInterest', 'EmploymentField',\n",
        "                'JobRelocateYesNo', 'HoursLearning',\n",
        "               'MoneyForLearning']]\n",
        "dados"
      ],
      "metadata": {
        "colab": {
          "base_uri": "https://localhost:8080/",
          "height": 424
        },
        "id": "6D8u8yhRzKml",
        "outputId": "a2b983c6-d154-4bf8-dd21-d31d45bd2435"
      },
      "execution_count": 125,
      "outputs": [
        {
          "output_type": "execute_result",
          "data": {
            "text/plain": [
              "        Age  Gender                          JobPref  \\\n",
              "0      28.0    male                       freelance    \n",
              "1      22.0    male               work for a startup   \n",
              "2      19.0    male          start your own business   \n",
              "3      26.0  female               work for a startup   \n",
              "4      20.0  female  work for a medium-sized company   \n",
              "...     ...     ...                              ...   \n",
              "15615  39.0    male          start your own business   \n",
              "15616  27.0    male               work for a startup   \n",
              "15617  37.0    male                       freelance    \n",
              "15618  26.0    male                              NaN   \n",
              "15619  22.0  female                       freelance    \n",
              "\n",
              "                 JobRoleInterest                        EmploymentField  \\\n",
              "0                            NaN      office and administrative support   \n",
              "1        Front-End Web Developer                      food and beverage   \n",
              "2                            NaN                                finance   \n",
              "3        Front-End Web Developer  arts, entertainment, sports, or media   \n",
              "4       Full-Stack Web Developer                              education   \n",
              "...                          ...                                    ...   \n",
              "15615                        NaN            software development and IT   \n",
              "15616    Front-End Web Developer            software development and IT   \n",
              "15617                        NaN                                    NaN   \n",
              "15618                        NaN                              education   \n",
              "15619                        NaN  arts, entertainment, sports, or media   \n",
              "\n",
              "       JobRelocateYesNo  HoursLearning  MoneyForLearning  \n",
              "0                   NaN           30.0               0.0  \n",
              "1                   1.0           30.0              20.0  \n",
              "2                   NaN           20.0              50.0  \n",
              "3                   NaN           20.0             100.0  \n",
              "4                   1.0           25.0            1300.0  \n",
              "...                 ...            ...               ...  \n",
              "15615               NaN           40.0               0.0  \n",
              "15616               1.0           15.0             100.0  \n",
              "15617               NaN           14.0               0.0  \n",
              "15618               NaN           10.0              30.0  \n",
              "15619               NaN            2.0               0.0  \n",
              "\n",
              "[13613 rows x 8 columns]"
            ],
            "text/html": [
              "\n",
              "  <div id=\"df-49737cb6-7db2-4e0e-ab1f-0e1828d046ec\">\n",
              "    <div class=\"colab-df-container\">\n",
              "      <div>\n",
              "<style scoped>\n",
              "    .dataframe tbody tr th:only-of-type {\n",
              "        vertical-align: middle;\n",
              "    }\n",
              "\n",
              "    .dataframe tbody tr th {\n",
              "        vertical-align: top;\n",
              "    }\n",
              "\n",
              "    .dataframe thead th {\n",
              "        text-align: right;\n",
              "    }\n",
              "</style>\n",
              "<table border=\"1\" class=\"dataframe\">\n",
              "  <thead>\n",
              "    <tr style=\"text-align: right;\">\n",
              "      <th></th>\n",
              "      <th>Age</th>\n",
              "      <th>Gender</th>\n",
              "      <th>JobPref</th>\n",
              "      <th>JobRoleInterest</th>\n",
              "      <th>EmploymentField</th>\n",
              "      <th>JobRelocateYesNo</th>\n",
              "      <th>HoursLearning</th>\n",
              "      <th>MoneyForLearning</th>\n",
              "    </tr>\n",
              "  </thead>\n",
              "  <tbody>\n",
              "    <tr>\n",
              "      <th>0</th>\n",
              "      <td>28.0</td>\n",
              "      <td>male</td>\n",
              "      <td>freelance</td>\n",
              "      <td>NaN</td>\n",
              "      <td>office and administrative support</td>\n",
              "      <td>NaN</td>\n",
              "      <td>30.0</td>\n",
              "      <td>0.0</td>\n",
              "    </tr>\n",
              "    <tr>\n",
              "      <th>1</th>\n",
              "      <td>22.0</td>\n",
              "      <td>male</td>\n",
              "      <td>work for a startup</td>\n",
              "      <td>Front-End Web Developer</td>\n",
              "      <td>food and beverage</td>\n",
              "      <td>1.0</td>\n",
              "      <td>30.0</td>\n",
              "      <td>20.0</td>\n",
              "    </tr>\n",
              "    <tr>\n",
              "      <th>2</th>\n",
              "      <td>19.0</td>\n",
              "      <td>male</td>\n",
              "      <td>start your own business</td>\n",
              "      <td>NaN</td>\n",
              "      <td>finance</td>\n",
              "      <td>NaN</td>\n",
              "      <td>20.0</td>\n",
              "      <td>50.0</td>\n",
              "    </tr>\n",
              "    <tr>\n",
              "      <th>3</th>\n",
              "      <td>26.0</td>\n",
              "      <td>female</td>\n",
              "      <td>work for a startup</td>\n",
              "      <td>Front-End Web Developer</td>\n",
              "      <td>arts, entertainment, sports, or media</td>\n",
              "      <td>NaN</td>\n",
              "      <td>20.0</td>\n",
              "      <td>100.0</td>\n",
              "    </tr>\n",
              "    <tr>\n",
              "      <th>4</th>\n",
              "      <td>20.0</td>\n",
              "      <td>female</td>\n",
              "      <td>work for a medium-sized company</td>\n",
              "      <td>Full-Stack Web Developer</td>\n",
              "      <td>education</td>\n",
              "      <td>1.0</td>\n",
              "      <td>25.0</td>\n",
              "      <td>1300.0</td>\n",
              "    </tr>\n",
              "    <tr>\n",
              "      <th>...</th>\n",
              "      <td>...</td>\n",
              "      <td>...</td>\n",
              "      <td>...</td>\n",
              "      <td>...</td>\n",
              "      <td>...</td>\n",
              "      <td>...</td>\n",
              "      <td>...</td>\n",
              "      <td>...</td>\n",
              "    </tr>\n",
              "    <tr>\n",
              "      <th>15615</th>\n",
              "      <td>39.0</td>\n",
              "      <td>male</td>\n",
              "      <td>start your own business</td>\n",
              "      <td>NaN</td>\n",
              "      <td>software development and IT</td>\n",
              "      <td>NaN</td>\n",
              "      <td>40.0</td>\n",
              "      <td>0.0</td>\n",
              "    </tr>\n",
              "    <tr>\n",
              "      <th>15616</th>\n",
              "      <td>27.0</td>\n",
              "      <td>male</td>\n",
              "      <td>work for a startup</td>\n",
              "      <td>Front-End Web Developer</td>\n",
              "      <td>software development and IT</td>\n",
              "      <td>1.0</td>\n",
              "      <td>15.0</td>\n",
              "      <td>100.0</td>\n",
              "    </tr>\n",
              "    <tr>\n",
              "      <th>15617</th>\n",
              "      <td>37.0</td>\n",
              "      <td>male</td>\n",
              "      <td>freelance</td>\n",
              "      <td>NaN</td>\n",
              "      <td>NaN</td>\n",
              "      <td>NaN</td>\n",
              "      <td>14.0</td>\n",
              "      <td>0.0</td>\n",
              "    </tr>\n",
              "    <tr>\n",
              "      <th>15618</th>\n",
              "      <td>26.0</td>\n",
              "      <td>male</td>\n",
              "      <td>NaN</td>\n",
              "      <td>NaN</td>\n",
              "      <td>education</td>\n",
              "      <td>NaN</td>\n",
              "      <td>10.0</td>\n",
              "      <td>30.0</td>\n",
              "    </tr>\n",
              "    <tr>\n",
              "      <th>15619</th>\n",
              "      <td>22.0</td>\n",
              "      <td>female</td>\n",
              "      <td>freelance</td>\n",
              "      <td>NaN</td>\n",
              "      <td>arts, entertainment, sports, or media</td>\n",
              "      <td>NaN</td>\n",
              "      <td>2.0</td>\n",
              "      <td>0.0</td>\n",
              "    </tr>\n",
              "  </tbody>\n",
              "</table>\n",
              "<p>13613 rows × 8 columns</p>\n",
              "</div>\n",
              "      <button class=\"colab-df-convert\" onclick=\"convertToInteractive('df-49737cb6-7db2-4e0e-ab1f-0e1828d046ec')\"\n",
              "              title=\"Convert this dataframe to an interactive table.\"\n",
              "              style=\"display:none;\">\n",
              "        \n",
              "  <svg xmlns=\"http://www.w3.org/2000/svg\" height=\"24px\"viewBox=\"0 0 24 24\"\n",
              "       width=\"24px\">\n",
              "    <path d=\"M0 0h24v24H0V0z\" fill=\"none\"/>\n",
              "    <path d=\"M18.56 5.44l.94 2.06.94-2.06 2.06-.94-2.06-.94-.94-2.06-.94 2.06-2.06.94zm-11 1L8.5 8.5l.94-2.06 2.06-.94-2.06-.94L8.5 2.5l-.94 2.06-2.06.94zm10 10l.94 2.06.94-2.06 2.06-.94-2.06-.94-.94-2.06-.94 2.06-2.06.94z\"/><path d=\"M17.41 7.96l-1.37-1.37c-.4-.4-.92-.59-1.43-.59-.52 0-1.04.2-1.43.59L10.3 9.45l-7.72 7.72c-.78.78-.78 2.05 0 2.83L4 21.41c.39.39.9.59 1.41.59.51 0 1.02-.2 1.41-.59l7.78-7.78 2.81-2.81c.8-.78.8-2.07 0-2.86zM5.41 20L4 18.59l7.72-7.72 1.47 1.35L5.41 20z\"/>\n",
              "  </svg>\n",
              "      </button>\n",
              "      \n",
              "  <style>\n",
              "    .colab-df-container {\n",
              "      display:flex;\n",
              "      flex-wrap:wrap;\n",
              "      gap: 12px;\n",
              "    }\n",
              "\n",
              "    .colab-df-convert {\n",
              "      background-color: #E8F0FE;\n",
              "      border: none;\n",
              "      border-radius: 50%;\n",
              "      cursor: pointer;\n",
              "      display: none;\n",
              "      fill: #1967D2;\n",
              "      height: 32px;\n",
              "      padding: 0 0 0 0;\n",
              "      width: 32px;\n",
              "    }\n",
              "\n",
              "    .colab-df-convert:hover {\n",
              "      background-color: #E2EBFA;\n",
              "      box-shadow: 0px 1px 2px rgba(60, 64, 67, 0.3), 0px 1px 3px 1px rgba(60, 64, 67, 0.15);\n",
              "      fill: #174EA6;\n",
              "    }\n",
              "\n",
              "    [theme=dark] .colab-df-convert {\n",
              "      background-color: #3B4455;\n",
              "      fill: #D2E3FC;\n",
              "    }\n",
              "\n",
              "    [theme=dark] .colab-df-convert:hover {\n",
              "      background-color: #434B5C;\n",
              "      box-shadow: 0px 1px 3px 1px rgba(0, 0, 0, 0.15);\n",
              "      filter: drop-shadow(0px 1px 2px rgba(0, 0, 0, 0.3));\n",
              "      fill: #FFFFFF;\n",
              "    }\n",
              "  </style>\n",
              "\n",
              "      <script>\n",
              "        const buttonEl =\n",
              "          document.querySelector('#df-49737cb6-7db2-4e0e-ab1f-0e1828d046ec button.colab-df-convert');\n",
              "        buttonEl.style.display =\n",
              "          google.colab.kernel.accessAllowed ? 'block' : 'none';\n",
              "\n",
              "        async function convertToInteractive(key) {\n",
              "          const element = document.querySelector('#df-49737cb6-7db2-4e0e-ab1f-0e1828d046ec');\n",
              "          const dataTable =\n",
              "            await google.colab.kernel.invokeFunction('convertToInteractive',\n",
              "                                                     [key], {});\n",
              "          if (!dataTable) return;\n",
              "\n",
              "          const docLinkHtml = 'Like what you see? Visit the ' +\n",
              "            '<a target=\"_blank\" href=https://colab.research.google.com/notebooks/data_table.ipynb>data table notebook</a>'\n",
              "            + ' to learn more about interactive tables.';\n",
              "          element.innerHTML = '';\n",
              "          dataTable['output_type'] = 'display_data';\n",
              "          await google.colab.output.renderOutput(dataTable, element);\n",
              "          const docLink = document.createElement('div');\n",
              "          docLink.innerHTML = docLinkHtml;\n",
              "          element.appendChild(docLink);\n",
              "        }\n",
              "      </script>\n",
              "    </div>\n",
              "  </div>\n",
              "  "
            ]
          },
          "metadata": {},
          "execution_count": 125
        }
      ]
    },
    {
      "cell_type": "code",
      "source": [
        "dados = dados.drop_duplicates()"
      ],
      "metadata": {
        "id": "eT3QGa0mAVGq"
      },
      "execution_count": 126,
      "outputs": []
    },
    {
      "cell_type": "code",
      "source": [
        "dados.shape"
      ],
      "metadata": {
        "colab": {
          "base_uri": "https://localhost:8080/"
        },
        "id": "KSd1AP_AA1WK",
        "outputId": "d49f62aa-44d7-438d-9c13-e21cb26f31b3"
      },
      "execution_count": 127,
      "outputs": [
        {
          "output_type": "execute_result",
          "data": {
            "text/plain": [
              "(12234, 8)"
            ]
          },
          "metadata": {},
          "execution_count": 127
        }
      ]
    },
    {
      "cell_type": "code",
      "source": [
        "#Vamos ver um resumo estatístico do Dataset\n",
        "dados.describe()"
      ],
      "metadata": {
        "colab": {
          "base_uri": "https://localhost:8080/",
          "height": 300
        },
        "id": "eH3Cn2c1A23y",
        "outputId": "b67f303f-9ddc-4a70-f624-13b7af37a1ba"
      },
      "execution_count": 128,
      "outputs": [
        {
          "output_type": "execute_result",
          "data": {
            "text/plain": [
              "                Age  JobRelocateYesNo  HoursLearning  MoneyForLearning\n",
              "count  12234.000000       4669.000000   11807.000000      11643.000000\n",
              "mean      29.598823          0.733348      15.713814       1193.690114\n",
              "std        9.215518          0.442256      14.548388       4999.765832\n",
              "min       10.000000          0.000000       0.000000          0.000000\n",
              "25%       23.000000          0.000000       5.000000          0.000000\n",
              "50%       28.000000          1.000000      10.000000         50.000000\n",
              "75%       34.000000          1.000000      20.000000        400.000000\n",
              "max       86.000000          1.000000     100.000000     180000.000000"
            ],
            "text/html": [
              "\n",
              "  <div id=\"df-50900544-f8c1-475b-b6b2-c3be67586b68\">\n",
              "    <div class=\"colab-df-container\">\n",
              "      <div>\n",
              "<style scoped>\n",
              "    .dataframe tbody tr th:only-of-type {\n",
              "        vertical-align: middle;\n",
              "    }\n",
              "\n",
              "    .dataframe tbody tr th {\n",
              "        vertical-align: top;\n",
              "    }\n",
              "\n",
              "    .dataframe thead th {\n",
              "        text-align: right;\n",
              "    }\n",
              "</style>\n",
              "<table border=\"1\" class=\"dataframe\">\n",
              "  <thead>\n",
              "    <tr style=\"text-align: right;\">\n",
              "      <th></th>\n",
              "      <th>Age</th>\n",
              "      <th>JobRelocateYesNo</th>\n",
              "      <th>HoursLearning</th>\n",
              "      <th>MoneyForLearning</th>\n",
              "    </tr>\n",
              "  </thead>\n",
              "  <tbody>\n",
              "    <tr>\n",
              "      <th>count</th>\n",
              "      <td>12234.000000</td>\n",
              "      <td>4669.000000</td>\n",
              "      <td>11807.000000</td>\n",
              "      <td>11643.000000</td>\n",
              "    </tr>\n",
              "    <tr>\n",
              "      <th>mean</th>\n",
              "      <td>29.598823</td>\n",
              "      <td>0.733348</td>\n",
              "      <td>15.713814</td>\n",
              "      <td>1193.690114</td>\n",
              "    </tr>\n",
              "    <tr>\n",
              "      <th>std</th>\n",
              "      <td>9.215518</td>\n",
              "      <td>0.442256</td>\n",
              "      <td>14.548388</td>\n",
              "      <td>4999.765832</td>\n",
              "    </tr>\n",
              "    <tr>\n",
              "      <th>min</th>\n",
              "      <td>10.000000</td>\n",
              "      <td>0.000000</td>\n",
              "      <td>0.000000</td>\n",
              "      <td>0.000000</td>\n",
              "    </tr>\n",
              "    <tr>\n",
              "      <th>25%</th>\n",
              "      <td>23.000000</td>\n",
              "      <td>0.000000</td>\n",
              "      <td>5.000000</td>\n",
              "      <td>0.000000</td>\n",
              "    </tr>\n",
              "    <tr>\n",
              "      <th>50%</th>\n",
              "      <td>28.000000</td>\n",
              "      <td>1.000000</td>\n",
              "      <td>10.000000</td>\n",
              "      <td>50.000000</td>\n",
              "    </tr>\n",
              "    <tr>\n",
              "      <th>75%</th>\n",
              "      <td>34.000000</td>\n",
              "      <td>1.000000</td>\n",
              "      <td>20.000000</td>\n",
              "      <td>400.000000</td>\n",
              "    </tr>\n",
              "    <tr>\n",
              "      <th>max</th>\n",
              "      <td>86.000000</td>\n",
              "      <td>1.000000</td>\n",
              "      <td>100.000000</td>\n",
              "      <td>180000.000000</td>\n",
              "    </tr>\n",
              "  </tbody>\n",
              "</table>\n",
              "</div>\n",
              "      <button class=\"colab-df-convert\" onclick=\"convertToInteractive('df-50900544-f8c1-475b-b6b2-c3be67586b68')\"\n",
              "              title=\"Convert this dataframe to an interactive table.\"\n",
              "              style=\"display:none;\">\n",
              "        \n",
              "  <svg xmlns=\"http://www.w3.org/2000/svg\" height=\"24px\"viewBox=\"0 0 24 24\"\n",
              "       width=\"24px\">\n",
              "    <path d=\"M0 0h24v24H0V0z\" fill=\"none\"/>\n",
              "    <path d=\"M18.56 5.44l.94 2.06.94-2.06 2.06-.94-2.06-.94-.94-2.06-.94 2.06-2.06.94zm-11 1L8.5 8.5l.94-2.06 2.06-.94-2.06-.94L8.5 2.5l-.94 2.06-2.06.94zm10 10l.94 2.06.94-2.06 2.06-.94-2.06-.94-.94-2.06-.94 2.06-2.06.94z\"/><path d=\"M17.41 7.96l-1.37-1.37c-.4-.4-.92-.59-1.43-.59-.52 0-1.04.2-1.43.59L10.3 9.45l-7.72 7.72c-.78.78-.78 2.05 0 2.83L4 21.41c.39.39.9.59 1.41.59.51 0 1.02-.2 1.41-.59l7.78-7.78 2.81-2.81c.8-.78.8-2.07 0-2.86zM5.41 20L4 18.59l7.72-7.72 1.47 1.35L5.41 20z\"/>\n",
              "  </svg>\n",
              "      </button>\n",
              "      \n",
              "  <style>\n",
              "    .colab-df-container {\n",
              "      display:flex;\n",
              "      flex-wrap:wrap;\n",
              "      gap: 12px;\n",
              "    }\n",
              "\n",
              "    .colab-df-convert {\n",
              "      background-color: #E8F0FE;\n",
              "      border: none;\n",
              "      border-radius: 50%;\n",
              "      cursor: pointer;\n",
              "      display: none;\n",
              "      fill: #1967D2;\n",
              "      height: 32px;\n",
              "      padding: 0 0 0 0;\n",
              "      width: 32px;\n",
              "    }\n",
              "\n",
              "    .colab-df-convert:hover {\n",
              "      background-color: #E2EBFA;\n",
              "      box-shadow: 0px 1px 2px rgba(60, 64, 67, 0.3), 0px 1px 3px 1px rgba(60, 64, 67, 0.15);\n",
              "      fill: #174EA6;\n",
              "    }\n",
              "\n",
              "    [theme=dark] .colab-df-convert {\n",
              "      background-color: #3B4455;\n",
              "      fill: #D2E3FC;\n",
              "    }\n",
              "\n",
              "    [theme=dark] .colab-df-convert:hover {\n",
              "      background-color: #434B5C;\n",
              "      box-shadow: 0px 1px 3px 1px rgba(0, 0, 0, 0.15);\n",
              "      filter: drop-shadow(0px 1px 2px rgba(0, 0, 0, 0.3));\n",
              "      fill: #FFFFFF;\n",
              "    }\n",
              "  </style>\n",
              "\n",
              "      <script>\n",
              "        const buttonEl =\n",
              "          document.querySelector('#df-50900544-f8c1-475b-b6b2-c3be67586b68 button.colab-df-convert');\n",
              "        buttonEl.style.display =\n",
              "          google.colab.kernel.accessAllowed ? 'block' : 'none';\n",
              "\n",
              "        async function convertToInteractive(key) {\n",
              "          const element = document.querySelector('#df-50900544-f8c1-475b-b6b2-c3be67586b68');\n",
              "          const dataTable =\n",
              "            await google.colab.kernel.invokeFunction('convertToInteractive',\n",
              "                                                     [key], {});\n",
              "          if (!dataTable) return;\n",
              "\n",
              "          const docLinkHtml = 'Like what you see? Visit the ' +\n",
              "            '<a target=\"_blank\" href=https://colab.research.google.com/notebooks/data_table.ipynb>data table notebook</a>'\n",
              "            + ' to learn more about interactive tables.';\n",
              "          element.innerHTML = '';\n",
              "          dataTable['output_type'] = 'display_data';\n",
              "          await google.colab.output.renderOutput(dataTable, element);\n",
              "          const docLink = document.createElement('div');\n",
              "          docLink.innerHTML = docLinkHtml;\n",
              "          element.appendChild(docLink);\n",
              "        }\n",
              "      </script>\n",
              "    </div>\n",
              "  </div>\n",
              "  "
            ]
          },
          "metadata": {},
          "execution_count": 128
        }
      ]
    },
    {
      "cell_type": "code",
      "source": [
        "dados.describe(include = 'O')"
      ],
      "metadata": {
        "colab": {
          "base_uri": "https://localhost:8080/",
          "height": 175
        },
        "id": "BFS4QDV1BJ-D",
        "outputId": "57666f22-dc86-4a1a-d69a-fbcebcd0a3b8"
      },
      "execution_count": 129,
      "outputs": [
        {
          "output_type": "execute_result",
          "data": {
            "text/plain": [
              "       Gender                          JobPref           JobRoleInterest  \\\n",
              "count   12194                             9320                      5552   \n",
              "unique      5                                5                         9   \n",
              "top      male  work for a medium-sized company  Full-Stack Web Developer   \n",
              "freq     9360                             2841                      2211   \n",
              "\n",
              "                    EmploymentField  \n",
              "count                          6683  \n",
              "unique                           15  \n",
              "top     software development and IT  \n",
              "freq                           3473  "
            ],
            "text/html": [
              "\n",
              "  <div id=\"df-01b69be9-d29f-4207-8696-337e1ba92057\">\n",
              "    <div class=\"colab-df-container\">\n",
              "      <div>\n",
              "<style scoped>\n",
              "    .dataframe tbody tr th:only-of-type {\n",
              "        vertical-align: middle;\n",
              "    }\n",
              "\n",
              "    .dataframe tbody tr th {\n",
              "        vertical-align: top;\n",
              "    }\n",
              "\n",
              "    .dataframe thead th {\n",
              "        text-align: right;\n",
              "    }\n",
              "</style>\n",
              "<table border=\"1\" class=\"dataframe\">\n",
              "  <thead>\n",
              "    <tr style=\"text-align: right;\">\n",
              "      <th></th>\n",
              "      <th>Gender</th>\n",
              "      <th>JobPref</th>\n",
              "      <th>JobRoleInterest</th>\n",
              "      <th>EmploymentField</th>\n",
              "    </tr>\n",
              "  </thead>\n",
              "  <tbody>\n",
              "    <tr>\n",
              "      <th>count</th>\n",
              "      <td>12194</td>\n",
              "      <td>9320</td>\n",
              "      <td>5552</td>\n",
              "      <td>6683</td>\n",
              "    </tr>\n",
              "    <tr>\n",
              "      <th>unique</th>\n",
              "      <td>5</td>\n",
              "      <td>5</td>\n",
              "      <td>9</td>\n",
              "      <td>15</td>\n",
              "    </tr>\n",
              "    <tr>\n",
              "      <th>top</th>\n",
              "      <td>male</td>\n",
              "      <td>work for a medium-sized company</td>\n",
              "      <td>Full-Stack Web Developer</td>\n",
              "      <td>software development and IT</td>\n",
              "    </tr>\n",
              "    <tr>\n",
              "      <th>freq</th>\n",
              "      <td>9360</td>\n",
              "      <td>2841</td>\n",
              "      <td>2211</td>\n",
              "      <td>3473</td>\n",
              "    </tr>\n",
              "  </tbody>\n",
              "</table>\n",
              "</div>\n",
              "      <button class=\"colab-df-convert\" onclick=\"convertToInteractive('df-01b69be9-d29f-4207-8696-337e1ba92057')\"\n",
              "              title=\"Convert this dataframe to an interactive table.\"\n",
              "              style=\"display:none;\">\n",
              "        \n",
              "  <svg xmlns=\"http://www.w3.org/2000/svg\" height=\"24px\"viewBox=\"0 0 24 24\"\n",
              "       width=\"24px\">\n",
              "    <path d=\"M0 0h24v24H0V0z\" fill=\"none\"/>\n",
              "    <path d=\"M18.56 5.44l.94 2.06.94-2.06 2.06-.94-2.06-.94-.94-2.06-.94 2.06-2.06.94zm-11 1L8.5 8.5l.94-2.06 2.06-.94-2.06-.94L8.5 2.5l-.94 2.06-2.06.94zm10 10l.94 2.06.94-2.06 2.06-.94-2.06-.94-.94-2.06-.94 2.06-2.06.94z\"/><path d=\"M17.41 7.96l-1.37-1.37c-.4-.4-.92-.59-1.43-.59-.52 0-1.04.2-1.43.59L10.3 9.45l-7.72 7.72c-.78.78-.78 2.05 0 2.83L4 21.41c.39.39.9.59 1.41.59.51 0 1.02-.2 1.41-.59l7.78-7.78 2.81-2.81c.8-.78.8-2.07 0-2.86zM5.41 20L4 18.59l7.72-7.72 1.47 1.35L5.41 20z\"/>\n",
              "  </svg>\n",
              "      </button>\n",
              "      \n",
              "  <style>\n",
              "    .colab-df-container {\n",
              "      display:flex;\n",
              "      flex-wrap:wrap;\n",
              "      gap: 12px;\n",
              "    }\n",
              "\n",
              "    .colab-df-convert {\n",
              "      background-color: #E8F0FE;\n",
              "      border: none;\n",
              "      border-radius: 50%;\n",
              "      cursor: pointer;\n",
              "      display: none;\n",
              "      fill: #1967D2;\n",
              "      height: 32px;\n",
              "      padding: 0 0 0 0;\n",
              "      width: 32px;\n",
              "    }\n",
              "\n",
              "    .colab-df-convert:hover {\n",
              "      background-color: #E2EBFA;\n",
              "      box-shadow: 0px 1px 2px rgba(60, 64, 67, 0.3), 0px 1px 3px 1px rgba(60, 64, 67, 0.15);\n",
              "      fill: #174EA6;\n",
              "    }\n",
              "\n",
              "    [theme=dark] .colab-df-convert {\n",
              "      background-color: #3B4455;\n",
              "      fill: #D2E3FC;\n",
              "    }\n",
              "\n",
              "    [theme=dark] .colab-df-convert:hover {\n",
              "      background-color: #434B5C;\n",
              "      box-shadow: 0px 1px 3px 1px rgba(0, 0, 0, 0.15);\n",
              "      filter: drop-shadow(0px 1px 2px rgba(0, 0, 0, 0.3));\n",
              "      fill: #FFFFFF;\n",
              "    }\n",
              "  </style>\n",
              "\n",
              "      <script>\n",
              "        const buttonEl =\n",
              "          document.querySelector('#df-01b69be9-d29f-4207-8696-337e1ba92057 button.colab-df-convert');\n",
              "        buttonEl.style.display =\n",
              "          google.colab.kernel.accessAllowed ? 'block' : 'none';\n",
              "\n",
              "        async function convertToInteractive(key) {\n",
              "          const element = document.querySelector('#df-01b69be9-d29f-4207-8696-337e1ba92057');\n",
              "          const dataTable =\n",
              "            await google.colab.kernel.invokeFunction('convertToInteractive',\n",
              "                                                     [key], {});\n",
              "          if (!dataTable) return;\n",
              "\n",
              "          const docLinkHtml = 'Like what you see? Visit the ' +\n",
              "            '<a target=\"_blank\" href=https://colab.research.google.com/notebooks/data_table.ipynb>data table notebook</a>'\n",
              "            + ' to learn more about interactive tables.';\n",
              "          element.innerHTML = '';\n",
              "          dataTable['output_type'] = 'display_data';\n",
              "          await google.colab.output.renderOutput(dataTable, element);\n",
              "          const docLink = document.createElement('div');\n",
              "          docLink.innerHTML = docLinkHtml;\n",
              "          element.appendChild(docLink);\n",
              "        }\n",
              "      </script>\n",
              "    </div>\n",
              "  </div>\n",
              "  "
            ]
          },
          "metadata": {},
          "execution_count": 129
        }
      ]
    },
    {
      "cell_type": "code",
      "source": [
        "#usando o loc\n",
        "dados.loc[dados['Age'] > 30]"
      ],
      "metadata": {
        "colab": {
          "base_uri": "https://localhost:8080/",
          "height": 424
        },
        "id": "Mkg_hb-iBpFy",
        "outputId": "cc954f42-f065-44a7-de60-2c04f524e2e0"
      },
      "execution_count": 130,
      "outputs": [
        {
          "output_type": "execute_result",
          "data": {
            "text/plain": [
              "        Age  Gender                  JobPref JobRoleInterest  \\\n",
              "5      34.0    male  start your own business             NaN   \n",
              "7      35.0    male               freelance              NaN   \n",
              "8      33.0    male                      NaN             NaN   \n",
              "9      33.0    male  start your own business             NaN   \n",
              "10     57.0    male               freelance              NaN   \n",
              "...     ...     ...                      ...             ...   \n",
              "15611  37.0    male  start your own business             NaN   \n",
              "15612  45.0  female  start your own business             NaN   \n",
              "15614  47.0    male               freelance              NaN   \n",
              "15615  39.0    male  start your own business             NaN   \n",
              "15617  37.0    male               freelance              NaN   \n",
              "\n",
              "                         EmploymentField  JobRelocateYesNo  HoursLearning  \\\n",
              "5                                finance               NaN            5.0   \n",
              "7      office and administrative support               NaN            NaN   \n",
              "8                   software development               NaN            5.0   \n",
              "9                                    NaN               NaN           20.0   \n",
              "10                                   NaN               NaN            8.0   \n",
              "...                                  ...               ...            ...   \n",
              "15611        software development and IT               NaN           40.0   \n",
              "15612                                NaN               NaN            2.0   \n",
              "15614                            finance               NaN            3.0   \n",
              "15615        software development and IT               NaN           40.0   \n",
              "15617                                NaN               NaN           14.0   \n",
              "\n",
              "       MoneyForLearning  \n",
              "5                   0.0  \n",
              "7                   0.0  \n",
              "8                3000.0  \n",
              "9                  30.0  \n",
              "10                400.0  \n",
              "...                 ...  \n",
              "15611             200.0  \n",
              "15612             300.0  \n",
              "15614               0.0  \n",
              "15615               0.0  \n",
              "15617               0.0  \n",
              "\n",
              "[4510 rows x 8 columns]"
            ],
            "text/html": [
              "\n",
              "  <div id=\"df-1473f1bc-abf7-4b60-a87c-0d9606196b79\">\n",
              "    <div class=\"colab-df-container\">\n",
              "      <div>\n",
              "<style scoped>\n",
              "    .dataframe tbody tr th:only-of-type {\n",
              "        vertical-align: middle;\n",
              "    }\n",
              "\n",
              "    .dataframe tbody tr th {\n",
              "        vertical-align: top;\n",
              "    }\n",
              "\n",
              "    .dataframe thead th {\n",
              "        text-align: right;\n",
              "    }\n",
              "</style>\n",
              "<table border=\"1\" class=\"dataframe\">\n",
              "  <thead>\n",
              "    <tr style=\"text-align: right;\">\n",
              "      <th></th>\n",
              "      <th>Age</th>\n",
              "      <th>Gender</th>\n",
              "      <th>JobPref</th>\n",
              "      <th>JobRoleInterest</th>\n",
              "      <th>EmploymentField</th>\n",
              "      <th>JobRelocateYesNo</th>\n",
              "      <th>HoursLearning</th>\n",
              "      <th>MoneyForLearning</th>\n",
              "    </tr>\n",
              "  </thead>\n",
              "  <tbody>\n",
              "    <tr>\n",
              "      <th>5</th>\n",
              "      <td>34.0</td>\n",
              "      <td>male</td>\n",
              "      <td>start your own business</td>\n",
              "      <td>NaN</td>\n",
              "      <td>finance</td>\n",
              "      <td>NaN</td>\n",
              "      <td>5.0</td>\n",
              "      <td>0.0</td>\n",
              "    </tr>\n",
              "    <tr>\n",
              "      <th>7</th>\n",
              "      <td>35.0</td>\n",
              "      <td>male</td>\n",
              "      <td>freelance</td>\n",
              "      <td>NaN</td>\n",
              "      <td>office and administrative support</td>\n",
              "      <td>NaN</td>\n",
              "      <td>NaN</td>\n",
              "      <td>0.0</td>\n",
              "    </tr>\n",
              "    <tr>\n",
              "      <th>8</th>\n",
              "      <td>33.0</td>\n",
              "      <td>male</td>\n",
              "      <td>NaN</td>\n",
              "      <td>NaN</td>\n",
              "      <td>software development</td>\n",
              "      <td>NaN</td>\n",
              "      <td>5.0</td>\n",
              "      <td>3000.0</td>\n",
              "    </tr>\n",
              "    <tr>\n",
              "      <th>9</th>\n",
              "      <td>33.0</td>\n",
              "      <td>male</td>\n",
              "      <td>start your own business</td>\n",
              "      <td>NaN</td>\n",
              "      <td>NaN</td>\n",
              "      <td>NaN</td>\n",
              "      <td>20.0</td>\n",
              "      <td>30.0</td>\n",
              "    </tr>\n",
              "    <tr>\n",
              "      <th>10</th>\n",
              "      <td>57.0</td>\n",
              "      <td>male</td>\n",
              "      <td>freelance</td>\n",
              "      <td>NaN</td>\n",
              "      <td>NaN</td>\n",
              "      <td>NaN</td>\n",
              "      <td>8.0</td>\n",
              "      <td>400.0</td>\n",
              "    </tr>\n",
              "    <tr>\n",
              "      <th>...</th>\n",
              "      <td>...</td>\n",
              "      <td>...</td>\n",
              "      <td>...</td>\n",
              "      <td>...</td>\n",
              "      <td>...</td>\n",
              "      <td>...</td>\n",
              "      <td>...</td>\n",
              "      <td>...</td>\n",
              "    </tr>\n",
              "    <tr>\n",
              "      <th>15611</th>\n",
              "      <td>37.0</td>\n",
              "      <td>male</td>\n",
              "      <td>start your own business</td>\n",
              "      <td>NaN</td>\n",
              "      <td>software development and IT</td>\n",
              "      <td>NaN</td>\n",
              "      <td>40.0</td>\n",
              "      <td>200.0</td>\n",
              "    </tr>\n",
              "    <tr>\n",
              "      <th>15612</th>\n",
              "      <td>45.0</td>\n",
              "      <td>female</td>\n",
              "      <td>start your own business</td>\n",
              "      <td>NaN</td>\n",
              "      <td>NaN</td>\n",
              "      <td>NaN</td>\n",
              "      <td>2.0</td>\n",
              "      <td>300.0</td>\n",
              "    </tr>\n",
              "    <tr>\n",
              "      <th>15614</th>\n",
              "      <td>47.0</td>\n",
              "      <td>male</td>\n",
              "      <td>freelance</td>\n",
              "      <td>NaN</td>\n",
              "      <td>finance</td>\n",
              "      <td>NaN</td>\n",
              "      <td>3.0</td>\n",
              "      <td>0.0</td>\n",
              "    </tr>\n",
              "    <tr>\n",
              "      <th>15615</th>\n",
              "      <td>39.0</td>\n",
              "      <td>male</td>\n",
              "      <td>start your own business</td>\n",
              "      <td>NaN</td>\n",
              "      <td>software development and IT</td>\n",
              "      <td>NaN</td>\n",
              "      <td>40.0</td>\n",
              "      <td>0.0</td>\n",
              "    </tr>\n",
              "    <tr>\n",
              "      <th>15617</th>\n",
              "      <td>37.0</td>\n",
              "      <td>male</td>\n",
              "      <td>freelance</td>\n",
              "      <td>NaN</td>\n",
              "      <td>NaN</td>\n",
              "      <td>NaN</td>\n",
              "      <td>14.0</td>\n",
              "      <td>0.0</td>\n",
              "    </tr>\n",
              "  </tbody>\n",
              "</table>\n",
              "<p>4510 rows × 8 columns</p>\n",
              "</div>\n",
              "      <button class=\"colab-df-convert\" onclick=\"convertToInteractive('df-1473f1bc-abf7-4b60-a87c-0d9606196b79')\"\n",
              "              title=\"Convert this dataframe to an interactive table.\"\n",
              "              style=\"display:none;\">\n",
              "        \n",
              "  <svg xmlns=\"http://www.w3.org/2000/svg\" height=\"24px\"viewBox=\"0 0 24 24\"\n",
              "       width=\"24px\">\n",
              "    <path d=\"M0 0h24v24H0V0z\" fill=\"none\"/>\n",
              "    <path d=\"M18.56 5.44l.94 2.06.94-2.06 2.06-.94-2.06-.94-.94-2.06-.94 2.06-2.06.94zm-11 1L8.5 8.5l.94-2.06 2.06-.94-2.06-.94L8.5 2.5l-.94 2.06-2.06.94zm10 10l.94 2.06.94-2.06 2.06-.94-2.06-.94-.94-2.06-.94 2.06-2.06.94z\"/><path d=\"M17.41 7.96l-1.37-1.37c-.4-.4-.92-.59-1.43-.59-.52 0-1.04.2-1.43.59L10.3 9.45l-7.72 7.72c-.78.78-.78 2.05 0 2.83L4 21.41c.39.39.9.59 1.41.59.51 0 1.02-.2 1.41-.59l7.78-7.78 2.81-2.81c.8-.78.8-2.07 0-2.86zM5.41 20L4 18.59l7.72-7.72 1.47 1.35L5.41 20z\"/>\n",
              "  </svg>\n",
              "      </button>\n",
              "      \n",
              "  <style>\n",
              "    .colab-df-container {\n",
              "      display:flex;\n",
              "      flex-wrap:wrap;\n",
              "      gap: 12px;\n",
              "    }\n",
              "\n",
              "    .colab-df-convert {\n",
              "      background-color: #E8F0FE;\n",
              "      border: none;\n",
              "      border-radius: 50%;\n",
              "      cursor: pointer;\n",
              "      display: none;\n",
              "      fill: #1967D2;\n",
              "      height: 32px;\n",
              "      padding: 0 0 0 0;\n",
              "      width: 32px;\n",
              "    }\n",
              "\n",
              "    .colab-df-convert:hover {\n",
              "      background-color: #E2EBFA;\n",
              "      box-shadow: 0px 1px 2px rgba(60, 64, 67, 0.3), 0px 1px 3px 1px rgba(60, 64, 67, 0.15);\n",
              "      fill: #174EA6;\n",
              "    }\n",
              "\n",
              "    [theme=dark] .colab-df-convert {\n",
              "      background-color: #3B4455;\n",
              "      fill: #D2E3FC;\n",
              "    }\n",
              "\n",
              "    [theme=dark] .colab-df-convert:hover {\n",
              "      background-color: #434B5C;\n",
              "      box-shadow: 0px 1px 3px 1px rgba(0, 0, 0, 0.15);\n",
              "      filter: drop-shadow(0px 1px 2px rgba(0, 0, 0, 0.3));\n",
              "      fill: #FFFFFF;\n",
              "    }\n",
              "  </style>\n",
              "\n",
              "      <script>\n",
              "        const buttonEl =\n",
              "          document.querySelector('#df-1473f1bc-abf7-4b60-a87c-0d9606196b79 button.colab-df-convert');\n",
              "        buttonEl.style.display =\n",
              "          google.colab.kernel.accessAllowed ? 'block' : 'none';\n",
              "\n",
              "        async function convertToInteractive(key) {\n",
              "          const element = document.querySelector('#df-1473f1bc-abf7-4b60-a87c-0d9606196b79');\n",
              "          const dataTable =\n",
              "            await google.colab.kernel.invokeFunction('convertToInteractive',\n",
              "                                                     [key], {});\n",
              "          if (!dataTable) return;\n",
              "\n",
              "          const docLinkHtml = 'Like what you see? Visit the ' +\n",
              "            '<a target=\"_blank\" href=https://colab.research.google.com/notebooks/data_table.ipynb>data table notebook</a>'\n",
              "            + ' to learn more about interactive tables.';\n",
              "          element.innerHTML = '';\n",
              "          dataTable['output_type'] = 'display_data';\n",
              "          await google.colab.output.renderOutput(dataTable, element);\n",
              "          const docLink = document.createElement('div');\n",
              "          docLink.innerHTML = docLinkHtml;\n",
              "          element.appendChild(docLink);\n",
              "        }\n",
              "      </script>\n",
              "    </div>\n",
              "  </div>\n",
              "  "
            ]
          },
          "metadata": {},
          "execution_count": 130
        }
      ]
    },
    {
      "cell_type": "markdown",
      "source": [
        "# ***Análise de Idade***"
      ],
      "metadata": {
        "id": "6FimpAmyCZHS"
      }
    },
    {
      "cell_type": "code",
      "source": [
        "dados['Age'].unique()"
      ],
      "metadata": {
        "colab": {
          "base_uri": "https://localhost:8080/"
        },
        "id": "SuV4TPZWCHfW",
        "outputId": "eb26fdce-9e0c-4523-a044-16500d89a662"
      },
      "execution_count": 131,
      "outputs": [
        {
          "output_type": "execute_result",
          "data": {
            "text/plain": [
              "array([28., 22., 19., 26., 20., 34., 23., 35., 33., 57., 27., 47., 37.,\n",
              "       31., 29., 30., 32., 25., 44., 21., 24., 18., 39., 41., 43., 36.,\n",
              "       40., 38., 16., 46., 15., 14., 50., 49., 45., 55., 51., 17., 53.,\n",
              "       52., 48., 56., 42., 54., 58., 65., 59., 75., 61., 80., 62., 60.,\n",
              "       66., 12., 11., 13., 63., 64., 70., 73., 69., 71., 68., 86., 10.,\n",
              "       67., 72.])"
            ]
          },
          "metadata": {},
          "execution_count": 131
        }
      ]
    },
    {
      "cell_type": "code",
      "source": [
        "dados.Age.unique()"
      ],
      "metadata": {
        "colab": {
          "base_uri": "https://localhost:8080/"
        },
        "id": "HFIMal2uCYQC",
        "outputId": "d7ebced2-385d-4429-c2f1-da5ecb3371a2"
      },
      "execution_count": 132,
      "outputs": [
        {
          "output_type": "execute_result",
          "data": {
            "text/plain": [
              "array([28., 22., 19., 26., 20., 34., 23., 35., 33., 57., 27., 47., 37.,\n",
              "       31., 29., 30., 32., 25., 44., 21., 24., 18., 39., 41., 43., 36.,\n",
              "       40., 38., 16., 46., 15., 14., 50., 49., 45., 55., 51., 17., 53.,\n",
              "       52., 48., 56., 42., 54., 58., 65., 59., 75., 61., 80., 62., 60.,\n",
              "       66., 12., 11., 13., 63., 64., 70., 73., 69., 71., 68., 86., 10.,\n",
              "       67., 72.])"
            ]
          },
          "metadata": {},
          "execution_count": 132
        }
      ]
    },
    {
      "cell_type": "code",
      "source": [
        "#Variável Age\n",
        "idade = dados.Age #dados['Age]\n",
        "\n",
        "#Histograma\n",
        "plt.style.use('seaborn-white')\n",
        "plt.hist(idade, label = 'Idades', color = 'lightseagreen', edgecolor = 'gray')\n",
        "plt.title(\"Distribuição por Idade\")\n",
        "plt.xlabel('Idades')\n",
        "plt.ylabel('Quantidade')\n",
        "plt.legend()\n",
        "plt.grid(True)\n",
        "plt.show()"
      ],
      "metadata": {
        "colab": {
          "base_uri": "https://localhost:8080/",
          "height": 477
        },
        "id": "gPssuy9fChiT",
        "outputId": "7ac114d6-7982-4947-8a1f-b950c4620740"
      },
      "execution_count": 133,
      "outputs": [
        {
          "output_type": "display_data",
          "data": {
            "text/plain": [
              "<Figure size 748.8x514.8 with 1 Axes>"
            ],
            "image/png": "[encoded data removed]"
          },
          "metadata": {}
        }
      ]
    },
    {
      "cell_type": "markdown",
      "source": [
        "***Análise de Gênero***"
      ],
      "metadata": {
        "id": "TrsO4bIDEjJj"
      }
    },
    {
      "cell_type": "code",
      "source": [
        "dados.Gender.value_counts()"
      ],
      "metadata": {
        "colab": {
          "base_uri": "https://localhost:8080/"
        },
        "id": "OrKZE9A2DcED",
        "outputId": "cc226da1-8831-4505-e640-0c8038b0f3f7"
      },
      "execution_count": 134,
      "outputs": [
        {
          "output_type": "execute_result",
          "data": {
            "text/plain": [
              "male           9360\n",
              "female         2697\n",
              "genderqueer      65\n",
              "agender          36\n",
              "trans            36\n",
              "Name: Gender, dtype: int64"
            ]
          },
          "metadata": {},
          "execution_count": 134
        }
      ]
    },
    {
      "cell_type": "code",
      "source": [
        "dados.Gender.value_counts().sum()"
      ],
      "metadata": {
        "colab": {
          "base_uri": "https://localhost:8080/"
        },
        "id": "WjFVapHyErl7",
        "outputId": "90168d60-4307-4d52-f8a6-b0f01f4d60c7"
      },
      "execution_count": 135,
      "outputs": [
        {
          "output_type": "execute_result",
          "data": {
            "text/plain": [
              "12194"
            ]
          },
          "metadata": {},
          "execution_count": 135
        }
      ]
    },
    {
      "cell_type": "code",
      "source": [
        "tipos_de_genero = pd.DataFrame(dados.Gender.value_counts())"
      ],
      "metadata": {
        "id": "ftygcQbXFG4D"
      },
      "execution_count": 136,
      "outputs": []
    },
    {
      "cell_type": "code",
      "source": [
        "tipos_de_genero.head()"
      ],
      "metadata": {
        "colab": {
          "base_uri": "https://localhost:8080/",
          "height": 206
        },
        "id": "5pJ1OPsaFYXb",
        "outputId": "71a81277-7504-44c2-da8d-fb359c0ad952"
      },
      "execution_count": 137,
      "outputs": [
        {
          "output_type": "execute_result",
          "data": {
            "text/plain": [
              "             Gender\n",
              "male           9360\n",
              "female         2697\n",
              "genderqueer      65\n",
              "agender          36\n",
              "trans            36"
            ],
            "text/html": [
              "\n",
              "  <div id=\"df-b0c54f04-13c5-4de8-82f6-5389cb947f54\">\n",
              "    <div class=\"colab-df-container\">\n",
              "      <div>\n",
              "<style scoped>\n",
              "    .dataframe tbody tr th:only-of-type {\n",
              "        vertical-align: middle;\n",
              "    }\n",
              "\n",
              "    .dataframe tbody tr th {\n",
              "        vertical-align: top;\n",
              "    }\n",
              "\n",
              "    .dataframe thead th {\n",
              "        text-align: right;\n",
              "    }\n",
              "</style>\n",
              "<table border=\"1\" class=\"dataframe\">\n",
              "  <thead>\n",
              "    <tr style=\"text-align: right;\">\n",
              "      <th></th>\n",
              "      <th>Gender</th>\n",
              "    </tr>\n",
              "  </thead>\n",
              "  <tbody>\n",
              "    <tr>\n",
              "      <th>male</th>\n",
              "      <td>9360</td>\n",
              "    </tr>\n",
              "    <tr>\n",
              "      <th>female</th>\n",
              "      <td>2697</td>\n",
              "    </tr>\n",
              "    <tr>\n",
              "      <th>genderqueer</th>\n",
              "      <td>65</td>\n",
              "    </tr>\n",
              "    <tr>\n",
              "      <th>agender</th>\n",
              "      <td>36</td>\n",
              "    </tr>\n",
              "    <tr>\n",
              "      <th>trans</th>\n",
              "      <td>36</td>\n",
              "    </tr>\n",
              "  </tbody>\n",
              "</table>\n",
              "</div>\n",
              "      <button class=\"colab-df-convert\" onclick=\"convertToInteractive('df-b0c54f04-13c5-4de8-82f6-5389cb947f54')\"\n",
              "              title=\"Convert this dataframe to an interactive table.\"\n",
              "              style=\"display:none;\">\n",
              "        \n",
              "  <svg xmlns=\"http://www.w3.org/2000/svg\" height=\"24px\"viewBox=\"0 0 24 24\"\n",
              "       width=\"24px\">\n",
              "    <path d=\"M0 0h24v24H0V0z\" fill=\"none\"/>\n",
              "    <path d=\"M18.56 5.44l.94 2.06.94-2.06 2.06-.94-2.06-.94-.94-2.06-.94 2.06-2.06.94zm-11 1L8.5 8.5l.94-2.06 2.06-.94-2.06-.94L8.5 2.5l-.94 2.06-2.06.94zm10 10l.94 2.06.94-2.06 2.06-.94-2.06-.94-.94-2.06-.94 2.06-2.06.94z\"/><path d=\"M17.41 7.96l-1.37-1.37c-.4-.4-.92-.59-1.43-.59-.52 0-1.04.2-1.43.59L10.3 9.45l-7.72 7.72c-.78.78-.78 2.05 0 2.83L4 21.41c.39.39.9.59 1.41.59.51 0 1.02-.2 1.41-.59l7.78-7.78 2.81-2.81c.8-.78.8-2.07 0-2.86zM5.41 20L4 18.59l7.72-7.72 1.47 1.35L5.41 20z\"/>\n",
              "  </svg>\n",
              "      </button>\n",
              "      \n",
              "  <style>\n",
              "    .colab-df-container {\n",
              "      display:flex;\n",
              "      flex-wrap:wrap;\n",
              "      gap: 12px;\n",
              "    }\n",
              "\n",
              "    .colab-df-convert {\n",
              "      background-color: #E8F0FE;\n",
              "      border: none;\n",
              "      border-radius: 50%;\n",
              "      cursor: pointer;\n",
              "      display: none;\n",
              "      fill: #1967D2;\n",
              "      height: 32px;\n",
              "      padding: 0 0 0 0;\n",
              "      width: 32px;\n",
              "    }\n",
              "\n",
              "    .colab-df-convert:hover {\n",
              "      background-color: #E2EBFA;\n",
              "      box-shadow: 0px 1px 2px rgba(60, 64, 67, 0.3), 0px 1px 3px 1px rgba(60, 64, 67, 0.15);\n",
              "      fill: #174EA6;\n",
              "    }\n",
              "\n",
              "    [theme=dark] .colab-df-convert {\n",
              "      background-color: #3B4455;\n",
              "      fill: #D2E3FC;\n",
              "    }\n",
              "\n",
              "    [theme=dark] .colab-df-convert:hover {\n",
              "      background-color: #434B5C;\n",
              "      box-shadow: 0px 1px 3px 1px rgba(0, 0, 0, 0.15);\n",
              "      filter: drop-shadow(0px 1px 2px rgba(0, 0, 0, 0.3));\n",
              "      fill: #FFFFFF;\n",
              "    }\n",
              "  </style>\n",
              "\n",
              "      <script>\n",
              "        const buttonEl =\n",
              "          document.querySelector('#df-b0c54f04-13c5-4de8-82f6-5389cb947f54 button.colab-df-convert');\n",
              "        buttonEl.style.display =\n",
              "          google.colab.kernel.accessAllowed ? 'block' : 'none';\n",
              "\n",
              "        async function convertToInteractive(key) {\n",
              "          const element = document.querySelector('#df-b0c54f04-13c5-4de8-82f6-5389cb947f54');\n",
              "          const dataTable =\n",
              "            await google.colab.kernel.invokeFunction('convertToInteractive',\n",
              "                                                     [key], {});\n",
              "          if (!dataTable) return;\n",
              "\n",
              "          const docLinkHtml = 'Like what you see? Visit the ' +\n",
              "            '<a target=\"_blank\" href=https://colab.research.google.com/notebooks/data_table.ipynb>data table notebook</a>'\n",
              "            + ' to learn more about interactive tables.';\n",
              "          element.innerHTML = '';\n",
              "          dataTable['output_type'] = 'display_data';\n",
              "          await google.colab.output.renderOutput(dataTable, element);\n",
              "          const docLink = document.createElement('div');\n",
              "          docLink.innerHTML = docLinkHtml;\n",
              "          element.appendChild(docLink);\n",
              "        }\n",
              "      </script>\n",
              "    </div>\n",
              "  </div>\n",
              "  "
            ]
          },
          "metadata": {},
          "execution_count": 137
        }
      ]
    },
    {
      "cell_type": "code",
      "source": [
        "tipos_de_genero.columns.name  = 'Tipo'"
      ],
      "metadata": {
        "id": "f2hd1C_gFcLD"
      },
      "execution_count": 138,
      "outputs": []
    },
    {
      "cell_type": "code",
      "source": [
        "tipos_de_genero.head()"
      ],
      "metadata": {
        "colab": {
          "base_uri": "https://localhost:8080/",
          "height": 206
        },
        "id": "VDNnnsygGtp6",
        "outputId": "d77d9de4-48a4-4685-8cb3-5b46f83c63a6"
      },
      "execution_count": 139,
      "outputs": [
        {
          "output_type": "execute_result",
          "data": {
            "text/plain": [
              "Tipo         Gender\n",
              "male           9360\n",
              "female         2697\n",
              "genderqueer      65\n",
              "agender          36\n",
              "trans            36"
            ],
            "text/html": [
              "\n",
              "  <div id=\"df-26d4fa63-4f20-4651-91b0-0109fbf7cab1\">\n",
              "    <div class=\"colab-df-container\">\n",
              "      <div>\n",
              "<style scoped>\n",
              "    .dataframe tbody tr th:only-of-type {\n",
              "        vertical-align: middle;\n",
              "    }\n",
              "\n",
              "    .dataframe tbody tr th {\n",
              "        vertical-align: top;\n",
              "    }\n",
              "\n",
              "    .dataframe thead th {\n",
              "        text-align: right;\n",
              "    }\n",
              "</style>\n",
              "<table border=\"1\" class=\"dataframe\">\n",
              "  <thead>\n",
              "    <tr style=\"text-align: right;\">\n",
              "      <th>Tipo</th>\n",
              "      <th>Gender</th>\n",
              "    </tr>\n",
              "  </thead>\n",
              "  <tbody>\n",
              "    <tr>\n",
              "      <th>male</th>\n",
              "      <td>9360</td>\n",
              "    </tr>\n",
              "    <tr>\n",
              "      <th>female</th>\n",
              "      <td>2697</td>\n",
              "    </tr>\n",
              "    <tr>\n",
              "      <th>genderqueer</th>\n",
              "      <td>65</td>\n",
              "    </tr>\n",
              "    <tr>\n",
              "      <th>agender</th>\n",
              "      <td>36</td>\n",
              "    </tr>\n",
              "    <tr>\n",
              "      <th>trans</th>\n",
              "      <td>36</td>\n",
              "    </tr>\n",
              "  </tbody>\n",
              "</table>\n",
              "</div>\n",
              "      <button class=\"colab-df-convert\" onclick=\"convertToInteractive('df-26d4fa63-4f20-4651-91b0-0109fbf7cab1')\"\n",
              "              title=\"Convert this dataframe to an interactive table.\"\n",
              "              style=\"display:none;\">\n",
              "        \n",
              "  <svg xmlns=\"http://www.w3.org/2000/svg\" height=\"24px\"viewBox=\"0 0 24 24\"\n",
              "       width=\"24px\">\n",
              "    <path d=\"M0 0h24v24H0V0z\" fill=\"none\"/>\n",
              "    <path d=\"M18.56 5.44l.94 2.06.94-2.06 2.06-.94-2.06-.94-.94-2.06-.94 2.06-2.06.94zm-11 1L8.5 8.5l.94-2.06 2.06-.94-2.06-.94L8.5 2.5l-.94 2.06-2.06.94zm10 10l.94 2.06.94-2.06 2.06-.94-2.06-.94-.94-2.06-.94 2.06-2.06.94z\"/><path d=\"M17.41 7.96l-1.37-1.37c-.4-.4-.92-.59-1.43-.59-.52 0-1.04.2-1.43.59L10.3 9.45l-7.72 7.72c-.78.78-.78 2.05 0 2.83L4 21.41c.39.39.9.59 1.41.59.51 0 1.02-.2 1.41-.59l7.78-7.78 2.81-2.81c.8-.78.8-2.07 0-2.86zM5.41 20L4 18.59l7.72-7.72 1.47 1.35L5.41 20z\"/>\n",
              "  </svg>\n",
              "      </button>\n",
              "      \n",
              "  <style>\n",
              "    .colab-df-container {\n",
              "      display:flex;\n",
              "      flex-wrap:wrap;\n",
              "      gap: 12px;\n",
              "    }\n",
              "\n",
              "    .colab-df-convert {\n",
              "      background-color: #E8F0FE;\n",
              "      border: none;\n",
              "      border-radius: 50%;\n",
              "      cursor: pointer;\n",
              "      display: none;\n",
              "      fill: #1967D2;\n",
              "      height: 32px;\n",
              "      padding: 0 0 0 0;\n",
              "      width: 32px;\n",
              "    }\n",
              "\n",
              "    .colab-df-convert:hover {\n",
              "      background-color: #E2EBFA;\n",
              "      box-shadow: 0px 1px 2px rgba(60, 64, 67, 0.3), 0px 1px 3px 1px rgba(60, 64, 67, 0.15);\n",
              "      fill: #174EA6;\n",
              "    }\n",
              "\n",
              "    [theme=dark] .colab-df-convert {\n",
              "      background-color: #3B4455;\n",
              "      fill: #D2E3FC;\n",
              "    }\n",
              "\n",
              "    [theme=dark] .colab-df-convert:hover {\n",
              "      background-color: #434B5C;\n",
              "      box-shadow: 0px 1px 3px 1px rgba(0, 0, 0, 0.15);\n",
              "      filter: drop-shadow(0px 1px 2px rgba(0, 0, 0, 0.3));\n",
              "      fill: #FFFFFF;\n",
              "    }\n",
              "  </style>\n",
              "\n",
              "      <script>\n",
              "        const buttonEl =\n",
              "          document.querySelector('#df-26d4fa63-4f20-4651-91b0-0109fbf7cab1 button.colab-df-convert');\n",
              "        buttonEl.style.display =\n",
              "          google.colab.kernel.accessAllowed ? 'block' : 'none';\n",
              "\n",
              "        async function convertToInteractive(key) {\n",
              "          const element = document.querySelector('#df-26d4fa63-4f20-4651-91b0-0109fbf7cab1');\n",
              "          const dataTable =\n",
              "            await google.colab.kernel.invokeFunction('convertToInteractive',\n",
              "                                                     [key], {});\n",
              "          if (!dataTable) return;\n",
              "\n",
              "          const docLinkHtml = 'Like what you see? Visit the ' +\n",
              "            '<a target=\"_blank\" href=https://colab.research.google.com/notebooks/data_table.ipynb>data table notebook</a>'\n",
              "            + ' to learn more about interactive tables.';\n",
              "          element.innerHTML = '';\n",
              "          dataTable['output_type'] = 'display_data';\n",
              "          await google.colab.output.renderOutput(dataTable, element);\n",
              "          const docLink = document.createElement('div');\n",
              "          docLink.innerHTML = docLinkHtml;\n",
              "          element.appendChild(docLink);\n",
              "        }\n",
              "      </script>\n",
              "    </div>\n",
              "  </div>\n",
              "  "
            ]
          },
          "metadata": {},
          "execution_count": 139
        }
      ]
    },
    {
      "cell_type": "code",
      "source": [
        "tipos_de_genero.iloc[0]"
      ],
      "metadata": {
        "colab": {
          "base_uri": "https://localhost:8080/"
        },
        "id": "xNlo2urJGzxr",
        "outputId": "7435ddee-7273-435e-e43c-408d0d54ed78"
      },
      "execution_count": 140,
      "outputs": [
        {
          "output_type": "execute_result",
          "data": {
            "text/plain": [
              "Tipo\n",
              "Gender    9360\n",
              "Name: male, dtype: int64"
            ]
          },
          "metadata": {},
          "execution_count": 140
        }
      ]
    },
    {
      "cell_type": "code",
      "source": [
        "feminino = tipos_de_genero.iloc[1]\n",
        "feminino"
      ],
      "metadata": {
        "colab": {
          "base_uri": "https://localhost:8080/"
        },
        "id": "uuQF7WfxHEwi",
        "outputId": "ba4b2b5c-45ed-4026-ac2a-06c9e6eb57db"
      },
      "execution_count": 141,
      "outputs": [
        {
          "output_type": "execute_result",
          "data": {
            "text/plain": [
              "Tipo\n",
              "Gender    2697\n",
              "Name: female, dtype: int64"
            ]
          },
          "metadata": {},
          "execution_count": 141
        }
      ]
    },
    {
      "cell_type": "code",
      "source": [
        "#soma o total de generos da coluna Gender em dados \n",
        "total_genero = dados.Gender.value_counts().sum()\n",
        "total_genero"
      ],
      "metadata": {
        "colab": {
          "base_uri": "https://localhost:8080/"
        },
        "id": "H3EpzLWRHXfC",
        "outputId": "35a9f38f-5790-4b08-cb89-8c427b3ed032"
      },
      "execution_count": 142,
      "outputs": [
        {
          "output_type": "execute_result",
          "data": {
            "text/plain": [
              "12194"
            ]
          },
          "metadata": {},
          "execution_count": 142
        }
      ]
    },
    {
      "cell_type": "code",
      "source": [
        "fem = (feminino / total_genero * 100)\n",
        "fem"
      ],
      "metadata": {
        "colab": {
          "base_uri": "https://localhost:8080/"
        },
        "id": "nNH5JmYIH7rL",
        "outputId": "4b7235e2-c9d2-4c31-94f6-6187c3ee3bde"
      },
      "execution_count": 143,
      "outputs": [
        {
          "output_type": "execute_result",
          "data": {
            "text/plain": [
              "Tipo\n",
              "Gender    22.117435\n",
              "Name: female, dtype: float64"
            ]
          },
          "metadata": {},
          "execution_count": 143
        }
      ]
    },
    {
      "cell_type": "code",
      "source": [
        "dados.groupby('Gender').mean()"
      ],
      "metadata": {
        "colab": {
          "base_uri": "https://localhost:8080/",
          "height": 238
        },
        "id": "yZBLq7RCKdra",
        "outputId": "d1f5e0eb-3159-4ecb-9c8b-3c8e9a3180a5"
      },
      "execution_count": 144,
      "outputs": [
        {
          "output_type": "execute_result",
          "data": {
            "text/plain": [
              "                   Age  JobRelocateYesNo  HoursLearning  MoneyForLearning\n",
              "Gender                                                                   \n",
              "agender      25.277778          0.642857      13.685714       1023.088235\n",
              "female       30.797553          0.653043      14.537481       1558.847478\n",
              "genderqueer  28.215385          0.684211      14.311475       1600.316667\n",
              "male         29.300000          0.758493      16.066402       1083.079552\n",
              "trans        30.000000          0.714286      17.828571       3019.588235"
            ],
            "text/html": [
              "\n",
              "  <div id=\"df-15a1911b-2dbe-42d0-81df-1f2501b7d4b7\">\n",
              "    <div class=\"colab-df-container\">\n",
              "      <div>\n",
              "<style scoped>\n",
              "    .dataframe tbody tr th:only-of-type {\n",
              "        vertical-align: middle;\n",
              "    }\n",
              "\n",
              "    .dataframe tbody tr th {\n",
              "        vertical-align: top;\n",
              "    }\n",
              "\n",
              "    .dataframe thead th {\n",
              "        text-align: right;\n",
              "    }\n",
              "</style>\n",
              "<table border=\"1\" class=\"dataframe\">\n",
              "  <thead>\n",
              "    <tr style=\"text-align: right;\">\n",
              "      <th></th>\n",
              "      <th>Age</th>\n",
              "      <th>JobRelocateYesNo</th>\n",
              "      <th>HoursLearning</th>\n",
              "      <th>MoneyForLearning</th>\n",
              "    </tr>\n",
              "    <tr>\n",
              "      <th>Gender</th>\n",
              "      <th></th>\n",
              "      <th></th>\n",
              "      <th></th>\n",
              "      <th></th>\n",
              "    </tr>\n",
              "  </thead>\n",
              "  <tbody>\n",
              "    <tr>\n",
              "      <th>agender</th>\n",
              "      <td>25.277778</td>\n",
              "      <td>0.642857</td>\n",
              "      <td>13.685714</td>\n",
              "      <td>1023.088235</td>\n",
              "    </tr>\n",
              "    <tr>\n",
              "      <th>female</th>\n",
              "      <td>30.797553</td>\n",
              "      <td>0.653043</td>\n",
              "      <td>14.537481</td>\n",
              "      <td>1558.847478</td>\n",
              "    </tr>\n",
              "    <tr>\n",
              "      <th>genderqueer</th>\n",
              "      <td>28.215385</td>\n",
              "      <td>0.684211</td>\n",
              "      <td>14.311475</td>\n",
              "      <td>1600.316667</td>\n",
              "    </tr>\n",
              "    <tr>\n",
              "      <th>male</th>\n",
              "      <td>29.300000</td>\n",
              "      <td>0.758493</td>\n",
              "      <td>16.066402</td>\n",
              "      <td>1083.079552</td>\n",
              "    </tr>\n",
              "    <tr>\n",
              "      <th>trans</th>\n",
              "      <td>30.000000</td>\n",
              "      <td>0.714286</td>\n",
              "      <td>17.828571</td>\n",
              "      <td>3019.588235</td>\n",
              "    </tr>\n",
              "  </tbody>\n",
              "</table>\n",
              "</div>\n",
              "      <button class=\"colab-df-convert\" onclick=\"convertToInteractive('df-15a1911b-2dbe-42d0-81df-1f2501b7d4b7')\"\n",
              "              title=\"Convert this dataframe to an interactive table.\"\n",
              "              style=\"display:none;\">\n",
              "        \n",
              "  <svg xmlns=\"http://www.w3.org/2000/svg\" height=\"24px\"viewBox=\"0 0 24 24\"\n",
              "       width=\"24px\">\n",
              "    <path d=\"M0 0h24v24H0V0z\" fill=\"none\"/>\n",
              "    <path d=\"M18.56 5.44l.94 2.06.94-2.06 2.06-.94-2.06-.94-.94-2.06-.94 2.06-2.06.94zm-11 1L8.5 8.5l.94-2.06 2.06-.94-2.06-.94L8.5 2.5l-.94 2.06-2.06.94zm10 10l.94 2.06.94-2.06 2.06-.94-2.06-.94-.94-2.06-.94 2.06-2.06.94z\"/><path d=\"M17.41 7.96l-1.37-1.37c-.4-.4-.92-.59-1.43-.59-.52 0-1.04.2-1.43.59L10.3 9.45l-7.72 7.72c-.78.78-.78 2.05 0 2.83L4 21.41c.39.39.9.59 1.41.59.51 0 1.02-.2 1.41-.59l7.78-7.78 2.81-2.81c.8-.78.8-2.07 0-2.86zM5.41 20L4 18.59l7.72-7.72 1.47 1.35L5.41 20z\"/>\n",
              "  </svg>\n",
              "      </button>\n",
              "      \n",
              "  <style>\n",
              "    .colab-df-container {\n",
              "      display:flex;\n",
              "      flex-wrap:wrap;\n",
              "      gap: 12px;\n",
              "    }\n",
              "\n",
              "    .colab-df-convert {\n",
              "      background-color: #E8F0FE;\n",
              "      border: none;\n",
              "      border-radius: 50%;\n",
              "      cursor: pointer;\n",
              "      display: none;\n",
              "      fill: #1967D2;\n",
              "      height: 32px;\n",
              "      padding: 0 0 0 0;\n",
              "      width: 32px;\n",
              "    }\n",
              "\n",
              "    .colab-df-convert:hover {\n",
              "      background-color: #E2EBFA;\n",
              "      box-shadow: 0px 1px 2px rgba(60, 64, 67, 0.3), 0px 1px 3px 1px rgba(60, 64, 67, 0.15);\n",
              "      fill: #174EA6;\n",
              "    }\n",
              "\n",
              "    [theme=dark] .colab-df-convert {\n",
              "      background-color: #3B4455;\n",
              "      fill: #D2E3FC;\n",
              "    }\n",
              "\n",
              "    [theme=dark] .colab-df-convert:hover {\n",
              "      background-color: #434B5C;\n",
              "      box-shadow: 0px 1px 3px 1px rgba(0, 0, 0, 0.15);\n",
              "      filter: drop-shadow(0px 1px 2px rgba(0, 0, 0, 0.3));\n",
              "      fill: #FFFFFF;\n",
              "    }\n",
              "  </style>\n",
              "\n",
              "      <script>\n",
              "        const buttonEl =\n",
              "          document.querySelector('#df-15a1911b-2dbe-42d0-81df-1f2501b7d4b7 button.colab-df-convert');\n",
              "        buttonEl.style.display =\n",
              "          google.colab.kernel.accessAllowed ? 'block' : 'none';\n",
              "\n",
              "        async function convertToInteractive(key) {\n",
              "          const element = document.querySelector('#df-15a1911b-2dbe-42d0-81df-1f2501b7d4b7');\n",
              "          const dataTable =\n",
              "            await google.colab.kernel.invokeFunction('convertToInteractive',\n",
              "                                                     [key], {});\n",
              "          if (!dataTable) return;\n",
              "\n",
              "          const docLinkHtml = 'Like what you see? Visit the ' +\n",
              "            '<a target=\"_blank\" href=https://colab.research.google.com/notebooks/data_table.ipynb>data table notebook</a>'\n",
              "            + ' to learn more about interactive tables.';\n",
              "          element.innerHTML = '';\n",
              "          dataTable['output_type'] = 'display_data';\n",
              "          await google.colab.output.renderOutput(dataTable, element);\n",
              "          const docLink = document.createElement('div');\n",
              "          docLink.innerHTML = docLinkHtml;\n",
              "          element.appendChild(docLink);\n",
              "        }\n",
              "      </script>\n",
              "    </div>\n",
              "  </div>\n",
              "  "
            ]
          },
          "metadata": {},
          "execution_count": 144
        }
      ]
    },
    {
      "cell_type": "code",
      "source": [
        "genero = dados.Gender.value_counts()"
      ],
      "metadata": {
        "id": "V9qBzyf-Kwl7"
      },
      "execution_count": 146,
      "outputs": []
    },
    {
      "cell_type": "code",
      "source": [
        "#apresenta um grafico circular\n",
        "plt.pie(genero)"
      ],
      "metadata": {
        "colab": {
          "base_uri": "https://localhost:8080/",
          "height": 594
        },
        "id": "X4b9tbdyLjdL",
        "outputId": "52783b98-41a0-4e40-e569-20ae9320be7c"
      },
      "execution_count": 148,
      "outputs": [
        {
          "output_type": "execute_result",
          "data": {
            "text/plain": [
              "([<matplotlib.patches.Wedge at 0x7efc4aecb970>,\n",
              "  <matplotlib.patches.Wedge at 0x7efc4aecb700>,\n",
              "  <matplotlib.patches.Wedge at 0x7efc4aecfbb0>,\n",
              "  <matplotlib.patches.Wedge at 0x7efc4aecf2b0>,\n",
              "  <matplotlib.patches.Wedge at 0x7efc4aecf640>],\n",
              " [Text(-0.8195924148082909, 0.7336676860736846, ''),\n",
              "  Text(0.7931919072339293, -0.7621329269219392, ''),\n",
              "  Text(1.09840575279812, -0.0592013700854625, ''),\n",
              "  Text(1.0995742196475298, -0.030602867292558702, ''),\n",
              "  Text(1.099952689214474, -0.010202033613305905, '')])"
            ]
          },
          "metadata": {},
          "execution_count": 148
        },
        {
          "output_type": "display_data",
          "data": {
            "text/plain": [
              "<Figure size 748.8x514.8 with 1 Axes>"
            ],
            "image/png": "[encoded data removed]"
          },
          "metadata": {}
        }
      ]
    },
    {
      "cell_type": "code",
      "source": [
        "genero = dados.Gender.value_counts()\n",
        "plt.pie(genero)\n",
        "plt.legend(dados.Gender.value_counts().index)\n",
        "plt.show()"
      ],
      "metadata": {
        "colab": {
          "base_uri": "https://localhost:8080/",
          "height": 420
        },
        "id": "1PXbbTrdMRI7",
        "outputId": "f18d2be2-0a62-4e32-e3f5-79da5149cb12"
      },
      "execution_count": 149,
      "outputs": [
        {
          "output_type": "display_data",
          "data": {
            "text/plain": [
              "<Figure size 748.8x514.8 with 1 Axes>"
            ],
            "image/png": "[encoded data removed]"
          },
          "metadata": {}
        }
      ]
    },
    {
      "cell_type": "code",
      "source": [
        "#genero = dados.Gender.value_counts()\n",
        "plt.pie(genero)\n",
        "plt.legend(dados.Gender.value_counts().index, bbox_to_anchor = (1, 1))\n",
        "plt.show()"
      ],
      "metadata": {
        "colab": {
          "base_uri": "https://localhost:8080/",
          "height": 420
        },
        "id": "ZtAjiJ6vNIXr",
        "outputId": "8788c602-5365-46ab-fd53-1c96067b652f"
      },
      "execution_count": 150,
      "outputs": [
        {
          "output_type": "display_data",
          "data": {
            "text/plain": [
              "<Figure size 748.8x514.8 with 1 Axes>"
            ],
            "image/png": "[encoded data removed]"
          },
          "metadata": {}
        }
      ]
    },
    {
      "cell_type": "markdown",
      "source": [
        "# **Distribuição de Interesse**"
      ],
      "metadata": {
        "id": "oS7K64zCNzu7"
      }
    },
    {
      "cell_type": "code",
      "source": [
        "dados.JobRoleInterest.value_counts()"
      ],
      "metadata": {
        "colab": {
          "base_uri": "https://localhost:8080/"
        },
        "id": "5i95wMJ7Nl-r",
        "outputId": "4ac016c2-3406-4324-f07f-073361ea1c38"
      },
      "execution_count": 151,
      "outputs": [
        {
          "output_type": "execute_result",
          "data": {
            "text/plain": [
              "Full-Stack Web Developer            2211\n",
              "  Front-End Web Developer           1173\n",
              "Back-End Web Developer               591\n",
              "  Data Scientist / Data Engineer     559\n",
              "  Mobile Developer                   335\n",
              "  User Experience Designer           235\n",
              "  DevOps / SysAdmin                  190\n",
              "  Product Manager                    167\n",
              "  Quality Assurance Engineer          91\n",
              "Name: JobRoleInterest, dtype: int64"
            ]
          },
          "metadata": {},
          "execution_count": 151
        }
      ]
    },
    {
      "cell_type": "code",
      "source": [
        "interesses = dados.JobRoleInterest.value_counts()\n",
        "interesses.plot(kind = 'bar')"
      ],
      "metadata": {
        "colab": {
          "base_uri": "https://localhost:8080/",
          "height": 628
        },
        "id": "YLYQc28rN9mS",
        "outputId": "cf08a26a-3233-46bc-d623-88281f183339"
      },
      "execution_count": 152,
      "outputs": [
        {
          "output_type": "execute_result",
          "data": {
            "text/plain": [
              "<matplotlib.axes._subplots.AxesSubplot at 0x7efc4bc79a90>"
            ]
          },
          "metadata": {},
          "execution_count": 152
        },
        {
          "output_type": "display_data",
          "data": {
            "text/plain": [
              "<Figure size 748.8x514.8 with 1 Axes>"
            ],
            "image/png": "[encoded data removed]"
          },
          "metadata": {}
        }
      ]
    },
    {
      "cell_type": "code",
      "source": [
        "interesses = dados.JobRoleInterest.value_counts()\n",
        "\n",
        "#Gráfico de Pizza\n",
        "plt.pie(interesses)\n",
        "plt.legend(interesses.index, bbox_to_anchor = (1, 0.9))\n",
        "plt.show()"
      ],
      "metadata": {
        "colab": {
          "base_uri": "https://localhost:8080/",
          "height": 420
        },
        "id": "bWrQ0Zy2OVKt",
        "outputId": "6872bf42-b866-4ba0-8cfb-49a347d00375"
      },
      "execution_count": 153,
      "outputs": [
        {
          "output_type": "display_data",
          "data": {
            "text/plain": [
              "<Figure size 748.8x514.8 with 1 Axes>"
            ],
            "image/png": "[encoded data removed]"
          },
          "metadata": {}
        }
      ]
    },
    {
      "cell_type": "code",
      "source": [
        "plt.pie(interesses, startangle = 180)\n",
        "plt.legend(interesses.index, bbox_to_anchor = (1, 0.9))\n",
        "plt.show()"
      ],
      "metadata": {
        "colab": {
          "base_uri": "https://localhost:8080/",
          "height": 420
        },
        "id": "cm0TnH2hPPrr",
        "outputId": "93305639-b23b-4ba1-b5e7-c98a5b4cdf82"
      },
      "execution_count": 154,
      "outputs": [
        {
          "output_type": "display_data",
          "data": {
            "text/plain": [
              "<Figure size 748.8x514.8 with 1 Axes>"
            ],
            "image/png": "[encoded data removed]"
          },
          "metadata": {}
        }
      ]
    }
  ]
}