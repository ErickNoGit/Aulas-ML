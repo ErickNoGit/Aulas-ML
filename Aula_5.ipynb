{
  "nbformat": 4,
  "nbformat_minor": 0,
  "metadata": {
    "colab": {
      "provenance": [],
      "authorship_tag": "ABX9TyOgDi9LcnuZrLbIpHOss/3I",
      "include_colab_link": true
    },
    "kernelspec": {
      "name": "python3",
      "display_name": "Python 3"
    },
    "language_info": {
      "name": "python"
    }
  },
  "cells": [
    {
      "cell_type": "markdown",
      "metadata": {
        "id": "view-in-github",
        "colab_type": "text"
      },
      "source": [
        "<a href=\"https://colab.research.google.com/github/ErickNoGit/Aulas-ML/blob/main/Aula_5.ipynb\" target=\"_parent\"><img src=\"https://colab.research.google.com/assets/colab-badge.svg\" alt=\"Open In Colab\"/></a>"
      ]
    },
    {
      "cell_type": "markdown",
      "source": [
        "# **aula 5, funçoes e metodos**"
      ],
      "metadata": {
        "id": "mBmDby1uKekK"
      }
    },
    {
      "cell_type": "code",
      "execution_count": 31,
      "metadata": {
        "colab": {
          "base_uri": "https://localhost:8080/"
        },
        "id": "7ksygDtmDtBg",
        "outputId": "cfc42778-318c-4924-aa19-cfa6c77d136f"
      },
      "outputs": [
        {
          "output_type": "stream",
          "name": "stdout",
          "text": [
            "Número  0\n",
            "Número  1\n",
            "Número  2\n",
            "Número  3\n",
            "Número  4\n"
          ]
        }
      ],
      "source": [
        "def funcaoLeitura(): #def de definir\n",
        "  for i in range(5):\n",
        "    print(\"Número \", i)\n",
        "\n",
        "funcaoLeitura() #chamando a função def funcaoLeitura"
      ]
    },
    {
      "cell_type": "code",
      "source": [
        "#Função para somar dois numeros\n",
        "def addNum(n1, n2):\n",
        "  print(\"O primeiro numero é: \", n1)\n",
        "  print(\"O segundo numero é: \", n2)\n",
        "  print(\"a soma dos numeros é: \", n1+n2)\n",
        "\n",
        "addNum(45,6)"
      ],
      "metadata": {
        "colab": {
          "base_uri": "https://localhost:8080/"
        },
        "id": "Z87EXVYqLRR6",
        "outputId": "a0a383d6-9825-4faa-c49f-81766e09043f"
      },
      "execution_count": 32,
      "outputs": [
        {
          "output_type": "stream",
          "name": "stdout",
          "text": [
            "O primeiro numero é:  45\n",
            "O segundo numero é:  6\n",
            "a soma dos numeros é:  51\n"
          ]
        }
      ]
    },
    {
      "cell_type": "code",
      "source": [
        "varGlobal = 10 #essa é uma variavel global\n",
        "def multiplicacao(num1, num2):\n",
        "  varGlobal = (num1 * num2) #essa é uma variavel local\n",
        "  print(\"Variavel da função Multiplicada: \", varGlobal)\n",
        "\n",
        "multiplicacao(5, 4)\n",
        "print(varGlobal)"
      ],
      "metadata": {
        "colab": {
          "base_uri": "https://localhost:8080/"
        },
        "id": "4jWF__l0OaFD",
        "outputId": "fd2cf949-ed92-4450-9fb9-d40c067bb1ae"
      },
      "execution_count": 33,
      "outputs": [
        {
          "output_type": "stream",
          "name": "stdout",
          "text": [
            "Variavel da função Multiplicada:  20\n",
            "10\n"
          ]
        }
      ]
    },
    {
      "cell_type": "code",
      "source": [
        "varGlobal = 10 #essa é uma variavel global\n",
        "def multiplica(num1, num2):\n",
        "  varLocal = num1 * num2 #essa é uma variavel local\n",
        "  print(\"Variavel da função Multiplicada: \", varLocal)\n",
        "\n",
        "multiplica(5, 4)"
      ],
      "metadata": {
        "colab": {
          "base_uri": "https://localhost:8080/"
        },
        "id": "PIbm3CQYPDwU",
        "outputId": "d3f9b604-2811-4e7c-ea38-3bff016cffed"
      },
      "execution_count": 34,
      "outputs": [
        {
          "output_type": "stream",
          "name": "stdout",
          "text": [
            "Variavel da função Multiplicada:  20\n"
          ]
        }
      ]
    },
    {
      "cell_type": "code",
      "source": [
        "#print(varLocal) #vai dar error"
      ],
      "metadata": {
        "id": "rQzZWiytO3u0"
      },
      "execution_count": 35,
      "outputs": []
    },
    {
      "cell_type": "code",
      "source": [
        "for i in range(5): print(i)"
      ],
      "metadata": {
        "colab": {
          "base_uri": "https://localhost:8080/"
        },
        "id": "5w7P-xE4PoAr",
        "outputId": "d1a1521b-8fc2-4dcf-90b3-491372bc0415"
      },
      "execution_count": 36,
      "outputs": [
        {
          "output_type": "stream",
          "name": "stdout",
          "text": [
            "0\n",
            "1\n",
            "2\n",
            "3\n",
            "4\n"
          ]
        }
      ]
    },
    {
      "cell_type": "code",
      "source": [
        "def separarTexto(texto): return texto.split()"
      ],
      "metadata": {
        "id": "i_glcpvcRMMS"
      },
      "execution_count": 40,
      "outputs": []
    },
    {
      "cell_type": "code",
      "source": [
        "token = separarTexto(\"Cibele Maria\")"
      ],
      "metadata": {
        "id": "blh6gvJ3RVqk"
      },
      "execution_count": 42,
      "outputs": []
    },
    {
      "cell_type": "code",
      "source": [
        "print(token)"
      ],
      "metadata": {
        "colab": {
          "base_uri": "https://localhost:8080/"
        },
        "id": "grycRxtLRb6s",
        "outputId": "e96ff672-efb2-40bd-cdf6-02df44af77c3"
      },
      "execution_count": 43,
      "outputs": [
        {
          "output_type": "stream",
          "name": "stdout",
          "text": [
            "['Cibele', 'Maria']\n"
          ]
        }
      ]
    },
    {
      "cell_type": "code",
      "source": [
        "#quando não sabemos a quantidade de parametrôs basta usar o * no parâmentro\n",
        "def variosParametros(*parametros):\n",
        "  for n, item in enumerate(parametros):\n",
        "    print(\"O parametro %d é: \" %(n), item)\n",
        "  return;"
      ],
      "metadata": {
        "id": "Djgyn770TWK1"
      },
      "execution_count": 44,
      "outputs": []
    },
    {
      "cell_type": "code",
      "source": [
        "variosParametros('pitomba', 'jambo', 'siriguela', 'umbu')"
      ],
      "metadata": {
        "colab": {
          "base_uri": "https://localhost:8080/"
        },
        "id": "mj37rxGuU9-W",
        "outputId": "64428e7b-731a-45a4-c3dc-d568ecbcb3d8"
      },
      "execution_count": 45,
      "outputs": [
        {
          "output_type": "stream",
          "name": "stdout",
          "text": [
            "O parametro 0 é:  pitomba\n",
            "O parametro 1 é:  jambo\n",
            "O parametro 2 é:  siriguela\n",
            "O parametro 3 é:  umbu\n"
          ]
        }
      ]
    },
    {
      "cell_type": "code",
      "source": [
        "import math #pacote com um conjunto de funções matemática\n",
        "\n",
        "def numPrimo(num):\n",
        "  #verificando se um número é primo\n",
        "  if (num%2) == 0 and num > 2:\n",
        "    return (\"Esse numero não é primo\")\n",
        "  for i in range(3, int(math.sqrt(num)) + 1, 2):\n",
        "    if (num % i) == 0:\n",
        "      return (\"Esse numero não é primo\")\n",
        "  return (\"Esse numero é primo\")"
      ],
      "metadata": {
        "id": "OSBVhx3lWXrO"
      },
      "execution_count": 46,
      "outputs": []
    },
    {
      "cell_type": "code",
      "source": [
        "numPrimo(7921)"
      ],
      "metadata": {
        "colab": {
          "base_uri": "https://localhost:8080/",
          "height": 35
        },
        "id": "HcMNvyOLXLJ1",
        "outputId": "37d877ed-cf89-41fe-df23-367b57f025ab"
      },
      "execution_count": 52,
      "outputs": [
        {
          "output_type": "execute_result",
          "data": {
            "text/plain": [
              "'Esse numero não é primo'"
            ],
            "application/vnd.google.colaboratory.intrinsic+json": {
              "type": "string"
            }
          },
          "metadata": {},
          "execution_count": 52
        }
      ]
    },
    {
      "cell_type": "code",
      "source": [
        "def soma(n1, n2):\n",
        "  return n1+n2\n",
        "\n",
        "def subtrai(n1, n2):\n",
        "  return n1-n2\n",
        "\n",
        "def multiplica(n1, n2):\n",
        "  return n1*n2\n",
        "\n",
        "def divide(n1, n2):\n",
        "  return n1/n2"
      ],
      "metadata": {
        "id": "PaYi5sJEXwW3"
      },
      "execution_count": 56,
      "outputs": []
    },
    {
      "cell_type": "code",
      "source": [
        "while True:\n",
        "  print(\"+===================+\")\n",
        "  print(\"|  MENU DE OPERAÇÕES\")\n",
        "  print(\"|   1 - somar       \")\n",
        "  print(\"|   2 - subtrair    \")\n",
        "  print(\"|   3 - multiplicar \")\n",
        "  print(\"|   4 - dividir     \")\n",
        "  print(\"|   0 - sair        \")\n",
        "  print(\"+===================+\")\n",
        "\n",
        "  op = int(input())\n",
        "  if (op == 0):\n",
        "    break\n",
        "\n",
        "  n1 = int(input(\"Primeiro número: \"))\n",
        "  n2 = int(input(\"Segundo número: \"))\n",
        "\n",
        "  if op == 1:\n",
        "    print(\"O resultado da soma é: \", soma(n1, n2))\n",
        "  elif op == 2:\n",
        "    print(\"O resultado da subtração é: \", subtrai(n1, n2))\n",
        "  elif op == 3:\n",
        "    print(\"O resultado da multiplicação é: \", multiplica(n1, n2))\n",
        "  elif op == 4:\n",
        "    print(\"O resultado da divisão é: \", divide(n1, n2))"
      ],
      "metadata": {
        "id": "fFu7VhGRZGB3"
      },
      "execution_count": null,
      "outputs": []
    },
    {
      "cell_type": "code",
      "source": [
        "#pessoa\n",
        "class Pessoa():\n",
        "  def __init__(self, n, i):\n",
        "    self.nome = n\n",
        "    self.idade = i\n",
        "  \n",
        "  def apresentacao(self):\n",
        "    print(\"seja bem vindo ao sistema SENAC!\")\n",
        "\n",
        "#pessoa fisica\n",
        "class PessoaFisica():\n",
        "  def __init__(self, n, i, cpf):\n",
        "    self.nome = n\n",
        "    self.idade = i\n",
        "    self.cpf = cpf\n",
        "  \n",
        "  def apresentacao(self):\n",
        "    print(\"seja bem vindo ao sistema SENAC!\")\n",
        "\n",
        "  def impostoDeRenda(self, *salario):\n",
        "    s = sum(salario)\n",
        "    ir = s*0.185\n",
        "    print(\"O valor do seu imposto de renda é R$\", ir)\n",
        "    return ir\n",
        "\n",
        "#pessoa juridica\n",
        "class PessoaJuridica():\n",
        "  def __init__(self, n, i, cnpj):\n",
        "    self.nome = n\n",
        "    self.idade = i\n",
        "    self.cnpj = cnpj\n",
        "\n",
        "  def apresentacao(self):\n",
        "    print(\"Seja bem vindo ao Python!\")\n",
        "  \n",
        "  def impostoDeRenda(self, salario):\n",
        "    ir = salario*0.10\n",
        "    print(\"O valor do seu imposto de renda é R$\", ir)\n",
        "    return ir"
      ],
      "metadata": {
        "id": "0abOqC3DcS0Q"
      },
      "execution_count": 67,
      "outputs": []
    },
    {
      "cell_type": "code",
      "source": [
        "nome = str(input(\"Nome: \"))\n",
        "age = int(input(\"Idade: \"))\n",
        "cnpj = int(input(\"CNPJ: \"))\n",
        "serumaninho = Pessoa(nome, age)\n",
        "comunidade = PessoaJuridica(nome, age, cnpj)"
      ],
      "metadata": {
        "colab": {
          "base_uri": "https://localhost:8080/"
        },
        "id": "gHwGTwnFgIZS",
        "outputId": "2e15490e-08aa-4658-caf2-cd65c0825a4d"
      },
      "execution_count": 62,
      "outputs": [
        {
          "name": "stdout",
          "output_type": "stream",
          "text": [
            "Nome: erick\n",
            "Idade: 22\n",
            "CNPJ: 12468654125\n"
          ]
        }
      ]
    },
    {
      "cell_type": "code",
      "source": [
        "serumaninho.nome"
      ],
      "metadata": {
        "colab": {
          "base_uri": "https://localhost:8080/",
          "height": 35
        },
        "id": "vXV4T1HqhmXZ",
        "outputId": "f23a0b78-84ad-4d21-f371-1fb00ff3644f"
      },
      "execution_count": 63,
      "outputs": [
        {
          "output_type": "execute_result",
          "data": {
            "text/plain": [
              "'erick'"
            ],
            "application/vnd.google.colaboratory.intrinsic+json": {
              "type": "string"
            }
          },
          "metadata": {},
          "execution_count": 63
        }
      ]
    },
    {
      "cell_type": "code",
      "source": [
        "serumaninho.idade"
      ],
      "metadata": {
        "colab": {
          "base_uri": "https://localhost:8080/"
        },
        "id": "0sFvl8JbhvwS",
        "outputId": "487090d1-581f-47dd-85d8-9acade4c571a"
      },
      "execution_count": 64,
      "outputs": [
        {
          "output_type": "execute_result",
          "data": {
            "text/plain": [
              "22"
            ]
          },
          "metadata": {},
          "execution_count": 64
        }
      ]
    },
    {
      "cell_type": "code",
      "source": [
        "serumaninho.apresentacao()"
      ],
      "metadata": {
        "colab": {
          "base_uri": "https://localhost:8080/"
        },
        "id": "zobonsd3hywC",
        "outputId": "53a4a683-b19e-46b0-a242-3997c5768e13"
      },
      "execution_count": 66,
      "outputs": [
        {
          "output_type": "stream",
          "name": "stdout",
          "text": [
            "seja bem vindo ao sistema SENAC!\n"
          ]
        }
      ]
    },
    {
      "cell_type": "code",
      "source": [
        "salario = float(input(\"Receita: \"))\n",
        "comunidade.impostoDeRenda(salario)\n",
        "print(\"Fim!\")"
      ],
      "metadata": {
        "colab": {
          "base_uri": "https://localhost:8080/"
        },
        "id": "8DJp9joKiGdx",
        "outputId": "ac45d4f2-153b-40d8-c8c3-0c159db13316"
      },
      "execution_count": 68,
      "outputs": [
        {
          "output_type": "stream",
          "name": "stdout",
          "text": [
            "Receita: 12453\n",
            "O valor do seu imposto de renda é R$ 1245.3000000000002\n",
            "Fim!\n"
          ]
        }
      ]
    }
  ]
}