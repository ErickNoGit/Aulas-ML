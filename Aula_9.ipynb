{
  "nbformat": 4,
  "nbformat_minor": 0,
  "metadata": {
    "colab": {
      "provenance": [],
      "authorship_tag": "ABX9TyNDE+s5fq2pyolo9Izhp/tz",
      "include_colab_link": true
    },
    "kernelspec": {
      "name": "python3",
      "display_name": "Python 3"
    },
    "language_info": {
      "name": "python"
    }
  },
  "cells": [
    {
      "cell_type": "markdown",
      "metadata": {
        "id": "view-in-github",
        "colab_type": "text"
      },
      "source": [
        "<a href=\"https://colab.research.google.com/github/ErickNoGit/Aulas-ML/blob/main/Aula_9.ipynb\" target=\"_parent\"><img src=\"https://colab.research.google.com/assets/colab-badge.svg\" alt=\"Open In Colab\"/></a>"
      ]
    },
    {
      "cell_type": "markdown",
      "source": [
        "# **Machine Learning com Python**"
      ],
      "metadata": {
        "id": "z_CciIOSuESY"
      }
    },
    {
      "cell_type": "markdown",
      "source": [
        "**Definindo os dados de treino**"
      ],
      "metadata": {
        "id": "Hr7MD3VRNKXF"
      }
    },
    {
      "cell_type": "code",
      "source": [
        "# quais as features, ou seja,\n",
        "# as caracterísicas dos pacientes?\n",
        "#tossindo?\n",
        "#espirrando?\n",
        "#falta de ar?\n",
        "#febre\n",
        "# vamos usar 0 para não e 1 para sim\n",
        "\n",
        "gripado1 = [1, 1, 1, 1]\n",
        "gripado2 = [0, 1, 0, 1]\n",
        "gripado3 = [1, 1, 0, 0]\n",
        "gripado4 = [1, 1, 0, 1]\n",
        "\n",
        "alergico1 = [1, 1, 0, 0]\n",
        "alergico2 = [0, 1, 0, 0]\n",
        "alergico3 = [1, 0, 1, 0]\n",
        "alergico4 = [0, 1, 1, 0]"
      ],
      "metadata": {
        "id": "8vVoAbd9DF4u"
      },
      "execution_count": 84,
      "outputs": []
    },
    {
      "cell_type": "code",
      "source": [
        "dados = [gripado1, gripado2, gripado3, gripado4, alergico1, alergico2, alergico3, alergico4]\n",
        "#categoria 1 = gripado; categoria 0 = alérgico\n",
        "categorias = [1, 1, 1, 1, 0, 0, 0, 0]"
      ],
      "metadata": {
        "id": "pPn85i57PEGf"
      },
      "execution_count": 85,
      "outputs": []
    },
    {
      "cell_type": "code",
      "source": [
        "from sklearn.svm import LinearSVC"
      ],
      "metadata": {
        "id": "byG7Cos5PrLu"
      },
      "execution_count": 86,
      "outputs": []
    },
    {
      "cell_type": "markdown",
      "source": [
        "**Rodando nosso treino**"
      ],
      "metadata": {
        "id": "yxg_9oS-Qjf0"
      }
    },
    {
      "cell_type": "code",
      "source": [
        "modelo = LinearSVC()\n",
        "modelo.fit(dados, categorias)"
      ],
      "metadata": {
        "colab": {
          "base_uri": "https://localhost:8080/"
        },
        "id": "R2D7ZDHuP5OF",
        "outputId": "01e91c36-938e-46f2-a5c1-0f2b762bba78"
      },
      "execution_count": 87,
      "outputs": [
        {
          "output_type": "execute_result",
          "data": {
            "text/plain": [
              "LinearSVC()"
            ]
          },
          "metadata": {},
          "execution_count": 87
        }
      ]
    },
    {
      "cell_type": "markdown",
      "source": [
        "**Definindo dados de teste**"
      ],
      "metadata": {
        "id": "Qw2fhlwUR-ZN"
      }
    },
    {
      "cell_type": "code",
      "source": [
        "paciente1 = [0, 1, 0, 1]\n",
        "paciente2 = [0, 0, 0, 0]\n",
        "paciente3 = [1, 1, 1, 1]\n",
        "paciente4 = [0, 1, 0, 1]\n",
        "\n",
        "dados_teste = [paciente1, paciente2, paciente3, paciente4]"
      ],
      "metadata": {
        "id": "nG-i3bapQxq1"
      },
      "execution_count": 88,
      "outputs": []
    },
    {
      "cell_type": "markdown",
      "source": [
        "**Testando**"
      ],
      "metadata": {
        "id": "B8GchLnJU4i0"
      }
    },
    {
      "cell_type": "code",
      "source": [
        "modelo.predict(dados_teste)"
      ],
      "metadata": {
        "colab": {
          "base_uri": "https://localhost:8080/"
        },
        "id": "Z_c-xWRgUykl",
        "outputId": "121f9a12-4e1b-4086-e79f-18603d970aa6"
      },
      "execution_count": 89,
      "outputs": [
        {
          "output_type": "execute_result",
          "data": {
            "text/plain": [
              "array([1, 0, 1, 1])"
            ]
          },
          "metadata": {},
          "execution_count": 89
        }
      ]
    },
    {
      "cell_type": "markdown",
      "source": [
        "Dado um novo paciente, vamos avaliar a possibilidade de ele está ou não gripado"
      ],
      "metadata": {
        "id": "nJtB2A5qX5j0"
      }
    },
    {
      "cell_type": "code",
      "source": [
        "novo_paciente = [0, 1, 0, 0]\n",
        "modelo.predict([novo_paciente])"
      ],
      "metadata": {
        "colab": {
          "base_uri": "https://localhost:8080/"
        },
        "id": "yiySZF_FVcPt",
        "outputId": "b16e63a9-f02d-43fc-e0af-d4aef3f2031a"
      },
      "execution_count": 90,
      "outputs": [
        {
          "output_type": "execute_result",
          "data": {
            "text/plain": [
              "array([0])"
            ]
          },
          "metadata": {},
          "execution_count": 90
        }
      ]
    },
    {
      "cell_type": "code",
      "source": [
        "if (modelo.predict([novo_paciente]) == 0):\n",
        "  print('Paciente potencialmente alérgico')\n",
        "else:\n",
        "  print('Paciente potencialmente gripado')"
      ],
      "metadata": {
        "colab": {
          "base_uri": "https://localhost:8080/"
        },
        "id": "1i4xI4XBYcc2",
        "outputId": "2e353506-2e62-44c5-f2c7-d6ed94b0709b"
      },
      "execution_count": 91,
      "outputs": [
        {
          "output_type": "stream",
          "name": "stdout",
          "text": [
            "Paciente potencialmente alérgico\n"
          ]
        }
      ]
    },
    {
      "cell_type": "markdown",
      "source": [
        "**Vamos salvar a aplicação do nosso modelo sobre os dados de teste na variável predições**"
      ],
      "metadata": {
        "id": "RhZoc8q-ZOLM"
      }
    },
    {
      "cell_type": "code",
      "source": [
        "predicoes = modelo.predict(dados_teste)"
      ],
      "metadata": {
        "id": "YZxKj2sGY_GE"
      },
      "execution_count": 92,
      "outputs": []
    },
    {
      "cell_type": "code",
      "source": [
        "#vamos supor que temos casos com exames que confirmaram \n",
        "#o seguinte sobre os pacientes terem gripe ou não\n",
        "#vamos comparar nosso modelo com a realidade\n",
        "exames = [1, 0, 1, 0]"
      ],
      "metadata": {
        "id": "Iuh9E0thZesC"
      },
      "execution_count": 93,
      "outputs": []
    },
    {
      "cell_type": "code",
      "source": [
        "predicoes == exames"
      ],
      "metadata": {
        "colab": {
          "base_uri": "https://localhost:8080/"
        },
        "id": "a_Br5y4vZ81E",
        "outputId": "1cc06731-1004-4f78-f756-78a6f6ec5a33"
      },
      "execution_count": 94,
      "outputs": [
        {
          "output_type": "execute_result",
          "data": {
            "text/plain": [
              "array([ True,  True,  True, False])"
            ]
          },
          "metadata": {},
          "execution_count": 94
        }
      ]
    },
    {
      "cell_type": "code",
      "source": [
        "#total de acertos do nosso modelo :\n",
        "total_acertos = (predicoes == exames).sum()\n",
        "total_acertos"
      ],
      "metadata": {
        "colab": {
          "base_uri": "https://localhost:8080/"
        },
        "id": "TB71TaoKZ-60",
        "outputId": "ba87bfe2-f6ea-49b7-a859-effb7b8351e0"
      },
      "execution_count": 95,
      "outputs": [
        {
          "output_type": "execute_result",
          "data": {
            "text/plain": [
              "3"
            ]
          },
          "metadata": {},
          "execution_count": 95
        }
      ]
    },
    {
      "cell_type": "code",
      "source": [
        "total_predicoes = len(dados_teste)\n",
        "total_predicoes"
      ],
      "metadata": {
        "colab": {
          "base_uri": "https://localhost:8080/"
        },
        "id": "2Iq9u2FsamOs",
        "outputId": "60cca087-7d25-4a1e-988c-5135323788c6"
      },
      "execution_count": 96,
      "outputs": [
        {
          "output_type": "execute_result",
          "data": {
            "text/plain": [
              "4"
            ]
          },
          "metadata": {},
          "execution_count": 96
        }
      ]
    },
    {
      "cell_type": "code",
      "source": [
        "#qual foi a nossa taxa de sucesso ?\n",
        "taxa_sucesso = total_acertos / total_predicoes *100\n",
        "taxa_sucesso"
      ],
      "metadata": {
        "colab": {
          "base_uri": "https://localhost:8080/"
        },
        "id": "IirPjblPdAsk",
        "outputId": "1aa11464-5e68-4554-fbeb-3f558bb1958e"
      },
      "execution_count": 97,
      "outputs": [
        {
          "output_type": "execute_result",
          "data": {
            "text/plain": [
              "75.0"
            ]
          },
          "metadata": {},
          "execution_count": 97
        }
      ]
    },
    {
      "cell_type": "code",
      "source": [
        "print('A Taxa de sucesso do seu modelo preditivo foi de ', taxa_sucesso,'%.')"
      ],
      "metadata": {
        "colab": {
          "base_uri": "https://localhost:8080/"
        },
        "id": "r2D9sAnddvx0",
        "outputId": "d0ee16b6-8a5e-4128-fe8c-27d3d41fee23"
      },
      "execution_count": 100,
      "outputs": [
        {
          "output_type": "stream",
          "name": "stdout",
          "text": [
            "A Taxa de sucesso do seu modelo preditivo foi de  75.0 %.\n"
          ]
        }
      ]
    },
    {
      "cell_type": "code",
      "source": [
        "#para situações mais complexas, usaremos o accuracy score\n",
        "from sklearn.metrics import accuracy_score\n",
        "taxa_sucesso = accuracy_score(total_acertos / total_predicoes)"
      ],
      "metadata": {
        "id": "SJSZe8LqedEc"
      },
      "execution_count": null,
      "outputs": []
    }
  ]
}