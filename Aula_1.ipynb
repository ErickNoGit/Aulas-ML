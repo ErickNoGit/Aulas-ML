{
  "nbformat": 4,
  "nbformat_minor": 0,
  "metadata": {
    "colab": {
      "provenance": [],
      "authorship_tag": "ABX9TyNXNnid4WG+6laGjC6pdjnC",
      "include_colab_link": true
    },
    "kernelspec": {
      "name": "python3",
      "display_name": "Python 3"
    },
    "language_info": {
      "name": "python"
    }
  },
  "cells": [
    {
      "cell_type": "markdown",
      "metadata": {
        "id": "view-in-github",
        "colab_type": "text"
      },
      "source": [
        "<a href=\"https://colab.research.google.com/github/ErickNoGit/Aulas-ML/blob/main/Aula_1.ipynb\" target=\"_parent\"><img src=\"https://colab.research.google.com/assets/colab-badge.svg\" alt=\"Open In Colab\"/></a>"
      ]
    },
    {
      "cell_type": "code",
      "source": [
        "nome = 'Camila'"
      ],
      "metadata": {
        "id": "bGx1bvx4ezWw"
      },
      "execution_count": null,
      "outputs": []
    },
    {
      "cell_type": "code",
      "source": [
        "idade = 35"
      ],
      "metadata": {
        "id": "jS4Po32-gTu3"
      },
      "execution_count": null,
      "outputs": []
    },
    {
      "cell_type": "code",
      "source": [
        "print('olá', nome) #podemos fazer comentários"
      ],
      "metadata": {
        "id": "LF3mlNZXgUh-"
      },
      "execution_count": null,
      "outputs": []
    },
    {
      "cell_type": "code",
      "source": [
        "pessoa = 'Camila'\n",
        "idade = 35\n",
        "altura = 1.70\n",
        "desenvolvedora = True"
      ],
      "metadata": {
        "id": "JyeLXpOihAze"
      },
      "execution_count": null,
      "outputs": []
    },
    {
      "cell_type": "code",
      "source": [
        "type(pessoa)"
      ],
      "metadata": {
        "id": "IpxxdguIh7TG"
      },
      "execution_count": null,
      "outputs": []
    },
    {
      "cell_type": "code",
      "source": [
        "type(idade)\n"
      ],
      "metadata": {
        "id": "T8q-hq_ch7J_"
      },
      "execution_count": null,
      "outputs": []
    },
    {
      "cell_type": "code",
      "source": [
        "type(altura)\n"
      ],
      "metadata": {
        "id": "2SB9EyGZh7De"
      },
      "execution_count": null,
      "outputs": []
    },
    {
      "cell_type": "code",
      "source": [
        "type(desenvolvedora)\n"
      ],
      "metadata": {
        "id": "vZYSXOpBh65W"
      },
      "execution_count": null,
      "outputs": []
    },
    {
      "cell_type": "code",
      "source": [
        "pessoa = 1234"
      ],
      "metadata": {
        "id": "NXNQTOOcjDFl"
      },
      "execution_count": null,
      "outputs": []
    },
    {
      "cell_type": "code",
      "source": [
        "type(pessoa)"
      ],
      "metadata": {
        "id": "SaG8l4yXjFLN"
      },
      "execution_count": null,
      "outputs": []
    },
    {
      "cell_type": "code",
      "source": [
        "print('olá', nome)\n",
        "\"\"\"podemos fazer comentários que ultrapassam\n",
        "mais de ula linha, porém é necessário fechar aspas\"\"\""
      ],
      "metadata": {
        "id": "ihZPIBavksac"
      },
      "execution_count": null,
      "outputs": []
    }
  ]
}