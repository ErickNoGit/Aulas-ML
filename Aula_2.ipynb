{
  "nbformat": 4,
  "nbformat_minor": 0,
  "metadata": {
    "colab": {
      "provenance": [],
      "authorship_tag": "ABX9TyPX9fZ4eBru0QhdL0JFcdZQ",
      "include_colab_link": true
    },
    "kernelspec": {
      "name": "python3",
      "display_name": "Python 3"
    },
    "language_info": {
      "name": "python"
    }
  },
  "cells": [
    {
      "cell_type": "markdown",
      "metadata": {
        "id": "view-in-github",
        "colab_type": "text"
      },
      "source": [
        "<a href=\"https://colab.research.google.com/github/ErickNoGit/atividade1/blob/main/Aula_2.ipynb\" target=\"_parent\"><img src=\"https://colab.research.google.com/assets/colab-badge.svg\" alt=\"Open In Colab\"/></a>"
      ]
    },
    {
      "cell_type": "markdown",
      "source": [
        "\n",
        "\n",
        "operações em Python\n",
        "\n"
      ],
      "metadata": {
        "id": "NHdmhAydSQeo"
      }
    },
    {
      "cell_type": "code",
      "source": [
        "idade1 = 20"
      ],
      "metadata": {
        "id": "3t4fOHZ6Sif-"
      },
      "execution_count": 57,
      "outputs": []
    },
    {
      "cell_type": "code",
      "source": [
        "idade2 = 35"
      ],
      "metadata": {
        "id": "MZrA4oR5SaD9"
      },
      "execution_count": 58,
      "outputs": []
    },
    {
      "cell_type": "code",
      "source": [
        "idade1 + idade2"
      ],
      "metadata": {
        "colab": {
          "base_uri": "https://localhost:8080/"
        },
        "id": "xOgeB6JlSdIJ",
        "outputId": "745b00b4-9de9-4964-dcb3-aa852c0647b5"
      },
      "execution_count": 59,
      "outputs": [
        {
          "output_type": "execute_result",
          "data": {
            "text/plain": [
              "55"
            ]
          },
          "metadata": {},
          "execution_count": 59
        }
      ]
    },
    {
      "cell_type": "code",
      "source": [
        "somaIdades = idade1 + idade2"
      ],
      "metadata": {
        "id": "T01xi-i3SqQn"
      },
      "execution_count": 60,
      "outputs": []
    },
    {
      "cell_type": "code",
      "source": [
        "idade1 - idade2"
      ],
      "metadata": {
        "colab": {
          "base_uri": "https://localhost:8080/"
        },
        "id": "8pUtS8XdS4S-",
        "outputId": "67fff542-0d35-45de-d4a1-c4139752b3d1"
      },
      "execution_count": 61,
      "outputs": [
        {
          "output_type": "execute_result",
          "data": {
            "text/plain": [
              "-15"
            ]
          },
          "metadata": {},
          "execution_count": 61
        }
      ]
    },
    {
      "cell_type": "code",
      "source": [
        "idade1 * idade2"
      ],
      "metadata": {
        "colab": {
          "base_uri": "https://localhost:8080/"
        },
        "id": "wNLNlgXtS4JH",
        "outputId": "f50afd16-6d75-4f55-eaae-21d6e5aeac42"
      },
      "execution_count": 62,
      "outputs": [
        {
          "output_type": "execute_result",
          "data": {
            "text/plain": [
              "700"
            ]
          },
          "metadata": {},
          "execution_count": 62
        }
      ]
    },
    {
      "cell_type": "code",
      "source": [
        "idade1 / idade2"
      ],
      "metadata": {
        "colab": {
          "base_uri": "https://localhost:8080/"
        },
        "id": "BsBj0YeVS4B3",
        "outputId": "9aaf5c86-233f-4241-f356-a0999b5168c7"
      },
      "execution_count": 63,
      "outputs": [
        {
          "output_type": "execute_result",
          "data": {
            "text/plain": [
              "0.5714285714285714"
            ]
          },
          "metadata": {},
          "execution_count": 63
        }
      ]
    },
    {
      "cell_type": "code",
      "source": [
        "idade1 + 10"
      ],
      "metadata": {
        "colab": {
          "base_uri": "https://localhost:8080/"
        },
        "id": "3unPfJjLTDvG",
        "outputId": "9d993798-b6a5-408d-d3fe-b1ee3ed08152"
      },
      "execution_count": 64,
      "outputs": [
        {
          "output_type": "execute_result",
          "data": {
            "text/plain": [
              "30"
            ]
          },
          "metadata": {},
          "execution_count": 64
        }
      ]
    },
    {
      "cell_type": "code",
      "source": [
        "idade1 - 15"
      ],
      "metadata": {
        "colab": {
          "base_uri": "https://localhost:8080/"
        },
        "id": "U_ClR7d1TDsm",
        "outputId": "ffa38310-68f3-4897-862a-e2de489400e9"
      },
      "execution_count": 65,
      "outputs": [
        {
          "output_type": "execute_result",
          "data": {
            "text/plain": [
              "5"
            ]
          },
          "metadata": {},
          "execution_count": 65
        }
      ]
    },
    {
      "cell_type": "code",
      "source": [
        "idade1 * 4"
      ],
      "metadata": {
        "colab": {
          "base_uri": "https://localhost:8080/"
        },
        "id": "4UC4PBHGTDo2",
        "outputId": "070c8daf-46c3-4553-b912-30e24a4a6f03"
      },
      "execution_count": 66,
      "outputs": [
        {
          "output_type": "execute_result",
          "data": {
            "text/plain": [
              "80"
            ]
          },
          "metadata": {},
          "execution_count": 66
        }
      ]
    },
    {
      "cell_type": "code",
      "source": [
        "idade1 / 5"
      ],
      "metadata": {
        "colab": {
          "base_uri": "https://localhost:8080/"
        },
        "id": "j_zWZyekTMWJ",
        "outputId": "b53f9183-a8fc-42cc-8179-3f4e7cc23059"
      },
      "execution_count": 67,
      "outputs": [
        {
          "output_type": "execute_result",
          "data": {
            "text/plain": [
              "4.0"
            ]
          },
          "metadata": {},
          "execution_count": 67
        }
      ]
    },
    {
      "cell_type": "code",
      "source": [
        "2*(idade1 + idade2)"
      ],
      "metadata": {
        "colab": {
          "base_uri": "https://localhost:8080/"
        },
        "id": "mD4CF7j8TSI5",
        "outputId": "b9c98702-9fd5-4466-a4df-57e5b17feab0"
      },
      "execution_count": 68,
      "outputs": [
        {
          "output_type": "execute_result",
          "data": {
            "text/plain": [
              "110"
            ]
          },
          "metadata": {},
          "execution_count": 68
        }
      ]
    },
    {
      "cell_type": "code",
      "source": [
        "2* idade1 + 3* idade2/4"
      ],
      "metadata": {
        "colab": {
          "base_uri": "https://localhost:8080/"
        },
        "id": "oHUaCpMATSbe",
        "outputId": "d3343305-f03f-42e4-eb9b-5a7f75ecf5d7"
      },
      "execution_count": 69,
      "outputs": [
        {
          "output_type": "execute_result",
          "data": {
            "text/plain": [
              "66.25"
            ]
          },
          "metadata": {},
          "execution_count": 69
        }
      ]
    },
    {
      "cell_type": "code",
      "source": [
        "(2*idade1 + 3*idade2)/4"
      ],
      "metadata": {
        "colab": {
          "base_uri": "https://localhost:8080/"
        },
        "id": "4gpPvv7pTh2l",
        "outputId": "4373ab94-8d53-464b-c470-cf5e9b1f983d"
      },
      "execution_count": 70,
      "outputs": [
        {
          "output_type": "execute_result",
          "data": {
            "text/plain": [
              "36.25"
            ]
          },
          "metadata": {},
          "execution_count": 70
        }
      ]
    },
    {
      "cell_type": "code",
      "source": [
        "idade1**2"
      ],
      "metadata": {
        "colab": {
          "base_uri": "https://localhost:8080/"
        },
        "id": "P4MzOZrgTiJF",
        "outputId": "e6dcc174-c346-4d6b-932f-963e7a9bf559"
      },
      "execution_count": 71,
      "outputs": [
        {
          "output_type": "execute_result",
          "data": {
            "text/plain": [
              "400"
            ]
          },
          "metadata": {},
          "execution_count": 71
        }
      ]
    },
    {
      "cell_type": "code",
      "source": [
        "15**2"
      ],
      "metadata": {
        "colab": {
          "base_uri": "https://localhost:8080/"
        },
        "id": "ualdfEu0T0Up",
        "outputId": "02d3b93b-ebcf-4120-d49c-2b52ba6f3406"
      },
      "execution_count": 72,
      "outputs": [
        {
          "output_type": "execute_result",
          "data": {
            "text/plain": [
              "225"
            ]
          },
          "metadata": {},
          "execution_count": 72
        }
      ]
    },
    {
      "cell_type": "code",
      "source": [
        "idade2 // idade1"
      ],
      "metadata": {
        "colab": {
          "base_uri": "https://localhost:8080/"
        },
        "id": "0Ac4aP0sT0cZ",
        "outputId": "f5b3e2e3-c303-41fd-d8b9-79c617a7a920"
      },
      "execution_count": 73,
      "outputs": [
        {
          "output_type": "execute_result",
          "data": {
            "text/plain": [
              "1"
            ]
          },
          "metadata": {},
          "execution_count": 73
        }
      ]
    },
    {
      "cell_type": "code",
      "source": [
        "idade2 / idade1"
      ],
      "metadata": {
        "colab": {
          "base_uri": "https://localhost:8080/"
        },
        "id": "kJDfIshIUBoK",
        "outputId": "caac7333-2324-4f52-f31f-6415ba9d76d8"
      },
      "execution_count": 74,
      "outputs": [
        {
          "output_type": "execute_result",
          "data": {
            "text/plain": [
              "1.75"
            ]
          },
          "metadata": {},
          "execution_count": 74
        }
      ]
    },
    {
      "cell_type": "code",
      "source": [
        "idade2 % idade1"
      ],
      "metadata": {
        "colab": {
          "base_uri": "https://localhost:8080/"
        },
        "id": "UhBh84lXUBu2",
        "outputId": "ac47b2c4-6086-4c1b-8725-933aa8296914"
      },
      "execution_count": 75,
      "outputs": [
        {
          "output_type": "execute_result",
          "data": {
            "text/plain": [
              "15"
            ]
          },
          "metadata": {},
          "execution_count": 75
        }
      ]
    },
    {
      "cell_type": "code",
      "source": [
        "nome = 'Camila'\n",
        "sobrenome = 'Dantas'"
      ],
      "metadata": {
        "id": "Jzy6o6o8T4NA"
      },
      "execution_count": 76,
      "outputs": []
    },
    {
      "cell_type": "code",
      "source": [
        "print(nome + sobrenome)"
      ],
      "metadata": {
        "colab": {
          "base_uri": "https://localhost:8080/"
        },
        "id": "sS5LBXq2Ulk-",
        "outputId": "d5174cc4-3ba8-4a02-a817-0ddecf316e4b"
      },
      "execution_count": 77,
      "outputs": [
        {
          "output_type": "stream",
          "name": "stdout",
          "text": [
            "CamilaDantas\n"
          ]
        }
      ]
    },
    {
      "cell_type": "code",
      "source": [
        "print(nome + '' + sobrenome)"
      ],
      "metadata": {
        "colab": {
          "base_uri": "https://localhost:8080/"
        },
        "id": "nRsYq4TmUmlW",
        "outputId": "55d17e40-c24c-481c-9d2b-abcbacb3dfcc"
      },
      "execution_count": 78,
      "outputs": [
        {
          "output_type": "stream",
          "name": "stdout",
          "text": [
            "CamilaDantas\n"
          ]
        }
      ]
    },
    {
      "cell_type": "code",
      "source": [
        "print('Olá, ', nome, 'você tem ', idade1 + 15, 'anos.')"
      ],
      "metadata": {
        "id": "bKZ6yYDOT4Tw",
        "colab": {
          "base_uri": "https://localhost:8080/"
        },
        "outputId": "530057b2-537e-4e5d-a748-1e54a128eb1a"
      },
      "execution_count": 79,
      "outputs": [
        {
          "output_type": "stream",
          "name": "stdout",
          "text": [
            "Olá,  Camila você tem  35 anos.\n"
          ]
        }
      ]
    },
    {
      "cell_type": "code",
      "source": [
        "print('Olá, ', nome, '\\n', 'você tem ', idade1 + 15 , 'anos.')"
      ],
      "metadata": {
        "colab": {
          "base_uri": "https://localhost:8080/"
        },
        "id": "2RUMsAXZVVU5",
        "outputId": "2c645b14-c2d6-4959-e227-ef50b4244468"
      },
      "execution_count": 80,
      "outputs": [
        {
          "output_type": "stream",
          "name": "stdout",
          "text": [
            "Olá,  Camila \n",
            " você tem  35 anos.\n"
          ]
        }
      ]
    },
    {
      "cell_type": "code",
      "source": [
        "input('Digite o seu nome: ')"
      ],
      "metadata": {
        "colab": {
          "base_uri": "https://localhost:8080/",
          "height": 53
        },
        "id": "wPokRiexVVl2",
        "outputId": "8bcdac99-ca9b-441d-cce7-fb3841dfcd3b"
      },
      "execution_count": 81,
      "outputs": [
        {
          "name": "stdout",
          "output_type": "stream",
          "text": [
            "Digite o seu nome: erick\n"
          ]
        },
        {
          "output_type": "execute_result",
          "data": {
            "text/plain": [
              "'erick'"
            ],
            "application/vnd.google.colaboratory.intrinsic+json": {
              "type": "string"
            }
          },
          "metadata": {},
          "execution_count": 81
        }
      ]
    },
    {
      "cell_type": "code",
      "source": [
        "nome = input('Digite o seu nome: ')"
      ],
      "metadata": {
        "colab": {
          "base_uri": "https://localhost:8080/"
        },
        "id": "b3tDmwPlVVuf",
        "outputId": "5512c74f-0a11-4acf-80b6-bb34a85207dd"
      },
      "execution_count": 82,
      "outputs": [
        {
          "name": "stdout",
          "output_type": "stream",
          "text": [
            "Digite o seu nome: erick\n"
          ]
        }
      ]
    },
    {
      "cell_type": "code",
      "source": [
        "idade = int(input('Digite a sua idade: '))"
      ],
      "metadata": {
        "colab": {
          "base_uri": "https://localhost:8080/"
        },
        "id": "PkOelzxWVV1O",
        "outputId": "f290cac4-2eee-4a56-e2d0-88a686913156"
      },
      "execution_count": 83,
      "outputs": [
        {
          "name": "stdout",
          "output_type": "stream",
          "text": [
            "Digite a sua idade: 22\n"
          ]
        }
      ]
    },
    {
      "cell_type": "code",
      "source": [
        "valor1 = input('Digite um número inteiro: ')\n",
        "valor2 = input('Digite outro número inteiro: ')"
      ],
      "metadata": {
        "colab": {
          "base_uri": "https://localhost:8080/"
        },
        "id": "XfBQm-0nYB14",
        "outputId": "6676ae9a-5d8e-4036-a120-a10ce79b52c5"
      },
      "execution_count": 84,
      "outputs": [
        {
          "name": "stdout",
          "output_type": "stream",
          "text": [
            "Digite um número inteiro: 4\n",
            "Digite outro número inteiro: 2\n"
          ]
        }
      ]
    },
    {
      "cell_type": "code",
      "source": [
        "print(valor1 == valor2)\n",
        "print(valor1 > valor2)\n",
        "print(valor1 < valor2)\n",
        "print(valor1 >= valor2)\n",
        "print(valor1 <= valor2)"
      ],
      "metadata": {
        "colab": {
          "base_uri": "https://localhost:8080/"
        },
        "id": "Juzbf9hlZcEX",
        "outputId": "e51503f5-84cb-4fbf-9946-cb5ce35e0972"
      },
      "execution_count": 85,
      "outputs": [
        {
          "output_type": "stream",
          "name": "stdout",
          "text": [
            "False\n",
            "True\n",
            "False\n",
            "True\n",
            "False\n"
          ]
        }
      ]
    },
    {
      "cell_type": "code",
      "source": [
        "numero = 10\n",
        "print(numero > 0 and numero < 10)"
      ],
      "metadata": {
        "colab": {
          "base_uri": "https://localhost:8080/"
        },
        "id": "RKI_1iBgZcCS",
        "outputId": "ab381f40-4ae1-4c6f-db34-9f2be009c979"
      },
      "execution_count": 86,
      "outputs": [
        {
          "output_type": "stream",
          "name": "stdout",
          "text": [
            "False\n"
          ]
        }
      ]
    },
    {
      "cell_type": "code",
      "source": [
        "numero = 10\n",
        "print(numero > 0 or numero < 10)"
      ],
      "metadata": {
        "colab": {
          "base_uri": "https://localhost:8080/"
        },
        "id": "MpBcIa0XZb_v",
        "outputId": "7faaf8b7-0484-4e64-983c-e3c0a2017968"
      },
      "execution_count": 87,
      "outputs": [
        {
          "output_type": "stream",
          "name": "stdout",
          "text": [
            "True\n"
          ]
        }
      ]
    },
    {
      "cell_type": "code",
      "source": [
        "if ():\n",
        "  print()\n",
        "else:\n",
        "  print()"
      ],
      "metadata": {
        "id": "kwRuvGTzWo1P",
        "colab": {
          "base_uri": "https://localhost:8080/"
        },
        "outputId": "9d55504e-a17d-4906-ace0-83ec0670a470"
      },
      "execution_count": 88,
      "outputs": [
        {
          "output_type": "stream",
          "name": "stdout",
          "text": [
            "\n"
          ]
        }
      ]
    },
    {
      "cell_type": "markdown",
      "source": [
        "desafio 1 condicional\n"
      ],
      "metadata": {
        "id": "HXDAfU7Fd-Rf"
      }
    },
    {
      "cell_type": "code",
      "source": [
        "numero_int = int(input('Digite um numero inteiro: ')) \n",
        "if (numero_int % 2 == 0): #se numero_int é multiplo de 2\n",
        "  print(\"O numero é Par: \\n\", numero_int)\n",
        "else: #se numero_int não é multiplo de 2\n",
        "  print(\"O numero é Impar: \\n\", numero_int)\n",
        "\n",
        "print('Fim.')"
      ],
      "metadata": {
        "id": "cZKlF31wc5mI",
        "colab": {
          "base_uri": "https://localhost:8080/"
        },
        "outputId": "ee42c185-c2d3-42cf-9176-e5353be5ac6b"
      },
      "execution_count": 89,
      "outputs": [
        {
          "output_type": "stream",
          "name": "stdout",
          "text": [
            "Digite um numero inteiro: 1\n",
            "O numero é Impar: \n",
            " 1\n",
            "Fim.\n"
          ]
        }
      ]
    },
    {
      "cell_type": "markdown",
      "source": [
        "condicional"
      ],
      "metadata": {
        "id": "2va6hBy2hNaH"
      }
    },
    {
      "cell_type": "code",
      "source": [
        "cupom = input('Digite o cupom: ')"
      ],
      "metadata": {
        "colab": {
          "base_uri": "https://localhost:8080/"
        },
        "id": "agWrxMNJc5sY",
        "outputId": "616deb48-e2ac-4a67-cbe0-0a6681f1154a"
      },
      "execution_count": 90,
      "outputs": [
        {
          "name": "stdout",
          "output_type": "stream",
          "text": [
            "Digite o cupom: aula1\n"
          ]
        }
      ]
    },
    {
      "cell_type": "code",
      "source": [
        "if (cupom == 'aula1' or cupom == 'aula2'):\n",
        "  print('você ganhou 10% de desconto')"
      ],
      "metadata": {
        "id": "BQdQtqldWozP",
        "colab": {
          "base_uri": "https://localhost:8080/"
        },
        "outputId": "f302815c-f2df-498a-bd49-f97f9e2e4f65"
      },
      "execution_count": 91,
      "outputs": [
        {
          "output_type": "stream",
          "name": "stdout",
          "text": [
            "você ganhou 10% de desconto\n"
          ]
        }
      ]
    },
    {
      "cell_type": "code",
      "source": [
        "cupom = input('Digite o cumpom: ')\n",
        "if (cupom == 'aula1' or cupom == 'aula2'):\n",
        "  print('Você ganhou 10% de desconto. \\n')\n",
        "else:\n",
        "  print('Cupom inválido \\n')"
      ],
      "metadata": {
        "colab": {
          "base_uri": "https://localhost:8080/"
        },
        "id": "t-HdMvctWowv",
        "outputId": "5347fe8c-4744-4f1b-f149-47c3e0a77ae9"
      },
      "execution_count": 92,
      "outputs": [
        {
          "output_type": "stream",
          "name": "stdout",
          "text": [
            "Digite o cumpom: aula2\n",
            "Você ganhou 10% de desconto. \n",
            "\n"
          ]
        }
      ]
    },
    {
      "cell_type": "markdown",
      "source": [
        "desafio 2 Condicional composta"
      ],
      "metadata": {
        "id": "U339MK4MilaI"
      }
    },
    {
      "cell_type": "code",
      "source": [
        "cupom = input(\"Digite o nome do cupom: \")\n",
        "if (cupom == 'aula1' or cupom == 'aula2'):\n",
        "  print(\"Você ganhou 15% de desconto \\n\")\n",
        "else:\n",
        "  print(\"Você não tem o cupom, terá apenas 5% de desconto \\n\")\n",
        "\n",
        "print(\"Fim.\")"
      ],
      "metadata": {
        "colab": {
          "base_uri": "https://localhost:8080/"
        },
        "id": "03Uqb2D6hlEY",
        "outputId": "88f371af-2fe8-40e1-fd94-0194e70dcec1"
      },
      "execution_count": 93,
      "outputs": [
        {
          "output_type": "stream",
          "name": "stdout",
          "text": [
            "Digite o nome do cupom: aula2\n",
            "Você ganhou 15% de desconto \n",
            "\n",
            "Fim.\n"
          ]
        }
      ]
    },
    {
      "cell_type": "markdown",
      "source": [
        "Desafio 3 Condicional composta"
      ],
      "metadata": {
        "id": "bKqsG43QnG4Z"
      }
    },
    {
      "cell_type": "code",
      "source": [
        "cupom = input(\"Digite o nome do cupom: \\n\")\n",
        "if (cupom == 'aula1'):\n",
        "  print(\"Você ganhou 15% de desconto \\n\")\n",
        "elif (cupom == 'aula2'):\n",
        "  print(\"Você ganhou 10% de desconto \\n\")\n",
        "else:\n",
        "  print(\"Você ganhou 5% de desconto, palavra bonus incorreta! \\n\")\n",
        "\n",
        "print(\"Fim.\")"
      ],
      "metadata": {
        "id": "lJNakK7DitY_",
        "colab": {
          "base_uri": "https://localhost:8080/"
        },
        "outputId": "38effe17-b8d1-4836-9d8c-61e10655b1fa"
      },
      "execution_count": 94,
      "outputs": [
        {
          "output_type": "stream",
          "name": "stdout",
          "text": [
            "Digite o nome do cupom: \n",
            "aula1\n",
            "Você ganhou 15% de desconto \n",
            "\n",
            "Fim.\n"
          ]
        }
      ]
    },
    {
      "cell_type": "code",
      "source": [
        "if (1==1): #mensagem no primeiro nível\n",
        "  print('Mensagem no segundo nível')  #Segundo Nível\n",
        "  if((1==2) == False):\n",
        "    print('Mensagem no terceiro nível') #Terceiro Nível"
      ],
      "metadata": {
        "id": "-Sniae6JhlB4",
        "colab": {
          "base_uri": "https://localhost:8080/"
        },
        "outputId": "eb36cec5-ce10-49fa-c2e9-8404078d6beb"
      },
      "execution_count": 95,
      "outputs": [
        {
          "output_type": "stream",
          "name": "stdout",
          "text": [
            "Mensagem no segundo nível\n",
            "Mensagem no terceiro nível\n"
          ]
        }
      ]
    },
    {
      "cell_type": "markdown",
      "source": [
        "Desafio 4 Prática Acumulada"
      ],
      "metadata": {
        "id": "lbfuhMk2rcrZ"
      }
    },
    {
      "cell_type": "code",
      "source": [
        "sol = input('o clima esta chuvoso ou ensolarado ? \\n')\n",
        "dinheiro = input('Você tem dinheiro ? sim ou não ?')\n",
        "\n",
        "if (sol == 'ensolarado' and dinheiro == 'sim'):\n",
        "  print(\"Vamos para praia! \\n\")\n",
        "else:\n",
        "  print(\"Vamos assistir filmes na netflix! \\n\")"
      ],
      "metadata": {
        "id": "picL3mv3hk_Q",
        "colab": {
          "base_uri": "https://localhost:8080/"
        },
        "outputId": "7a13adbe-cce2-4451-8e49-2f057c777bde"
      },
      "execution_count": 96,
      "outputs": [
        {
          "output_type": "stream",
          "name": "stdout",
          "text": [
            "o clima esta chuvoso ou ensolarado ? \n",
            "chhuvoso\n",
            "Você tem dinheiro ? sim ou não ?não\n",
            "Vamos assistir filmes na netflix! \n",
            "\n"
          ]
        }
      ]
    },
    {
      "cell_type": "code",
      "source": [
        "sol = input('o clima esta chuvoso ou ensolarado ? \\n')\n",
        "dinheiro = input('Você tem dinheiro ? sim ou não ?')\n",
        "\n",
        "if (sol == 'ensolarado' or dinheiro == 'sim'):\n",
        "  print(\"Vamos para praia! \\n\")\n",
        "else:\n",
        "  print(\"Vamos assistir filmes na netflix! \\n\")"
      ],
      "metadata": {
        "colab": {
          "base_uri": "https://localhost:8080/"
        },
        "id": "0J6oSPD5qmhk",
        "outputId": "b48d87e1-d4a3-40db-e127-7b363915b0ff"
      },
      "execution_count": 97,
      "outputs": [
        {
          "output_type": "stream",
          "name": "stdout",
          "text": [
            "o clima esta chuvoso ou ensolarado ? \n",
            "ensolarado\n",
            "Você tem dinheiro ? sim ou não ?não\n",
            "Vamos para praia! \n",
            "\n"
          ]
        }
      ]
    },
    {
      "cell_type": "code",
      "source": [
        "sol = input('o clima esta chuvoso ou ensolarado ? \\n')\n",
        "if (sol == 'ensolarado'):\n",
        "  dinheiro = input('Você tem dinheiro ? sim ou não ?')\n",
        "  if(dinheiro == 'sim'):\n",
        "    print(\"Vamos para praia! \\n\")\n",
        "  else:\n",
        "    print(\"você está liso, não vá! assista netflix \\n\")\n",
        "else:\n",
        "  print(\"Vamos assistir filmes na netflix! \\n\")"
      ],
      "metadata": {
        "colab": {
          "base_uri": "https://localhost:8080/"
        },
        "id": "k9kZ2qEHqmex",
        "outputId": "dca6b200-ccc5-4ced-9dab-56a032bf96e3"
      },
      "execution_count": 103,
      "outputs": [
        {
          "output_type": "stream",
          "name": "stdout",
          "text": [
            "o clima esta chuvoso ou ensolarado ? \n",
            "não\n",
            "Vamos assistir filmes na netflix! \n",
            "\n"
          ]
        }
      ]
    },
    {
      "cell_type": "code",
      "source": [
        "x = 4\n",
        "0 < x < 5"
      ],
      "metadata": {
        "colab": {
          "base_uri": "https://localhost:8080/"
        },
        "id": "SlG4NaV7qmbq",
        "outputId": "1bda3fa6-f2c7-472b-90fa-bc8c2a21bc3d"
      },
      "execution_count": 104,
      "outputs": [
        {
          "output_type": "execute_result",
          "data": {
            "text/plain": [
              "True"
            ]
          },
          "metadata": {},
          "execution_count": 104
        }
      ]
    },
    {
      "cell_type": "markdown",
      "source": [
        "Desafio 5 Prática"
      ],
      "metadata": {
        "id": "3nGQdiS45_ar"
      }
    },
    {
      "cell_type": "code",
      "source": [
        "valor_carro = float(input('Qual é o valor do carro ? \\n'))\n",
        "ano_carro = float(input('Qual é o ano do carro ? \\n'))\n",
        "\n",
        "if (ano_carro < 1990):\n",
        "  print(\"você pagará 1% de impostos\")\n",
        "  imposto_um = (valor_carro * 1) / 100\n",
        "  print(\"O imposto é : \", imposto_um)\n",
        "#elif(ano_carro >= 1990):\n",
        "else:\n",
        "  print(\"você pagará 1.5% de impostos\")\n",
        "  imposto_dois = (valor_carro * 1.5) / 100\n",
        "  print(\"O imposto é : \", imposto_dois)\n"
      ],
      "metadata": {
        "id": "TeYHe87_hk8w",
        "colab": {
          "base_uri": "https://localhost:8080/"
        },
        "outputId": "119e7ebe-2848-465e-d6c6-945ec8fea35b"
      },
      "execution_count": 110,
      "outputs": [
        {
          "output_type": "stream",
          "name": "stdout",
          "text": [
            "Qual é o valor do carro ? \n",
            "15\n",
            "Qual é o ano do carro ? \n",
            "1564\n",
            "você pagará 1% de impostos\n",
            "O imposto é :  0.15\n"
          ]
        }
      ]
    },
    {
      "cell_type": "code",
      "source": [
        "cargo_1 = 'Gerente'\n",
        "cargo_2 = 'Engenheiro'\n",
        "cargo_3 = 'Tecnico'\n",
        "salario = float(input(\"qual é o seu salario ?\"))\n",
        "cargo = input('qual o seu cargo ? \\n Gerente, Engenheiro ou Tecnico :')\n",
        "if (cargo == cargo_1):\n",
        "  print(\"Seu salário era ,\", salario,\" reais\")\n",
        "  aumento = (salario * 10 ) /100\n",
        "  print(\"Seu salario aumentará em 10% : \\n\", aumento)\n",
        "  print(\"portanto: \",aumento + salario)\n",
        "elif (cargo == cargo_2):\n",
        "  print(\"Seu salário era ,\", salario,\" reais\")\n",
        "  aumento = (salario * 20 ) /100\n",
        "  print(\"Seu salario aumentará em 20% : \\n\", aumento)\n",
        "  print(\"portanto: \",aumento + salario)\n",
        "elif (cargo == cargo_3):\n",
        "  print(\"Seu salário era ,\", salario,\" reais\")\n",
        "  aumento = (salario * 30 ) /100\n",
        "  print(\"Seu salario aumentará em 30% : \\n\", aumento)\n",
        "  print(\"portanto: \",aumento + salario)\n",
        "else:\n",
        "  print(\"Seu salário era ,\", salario,\" reais\")\n",
        "  aumento = (salario * 40 ) /100\n",
        "  print(\"Seu salario aumentará em 40% : \\n\", aumento)\n",
        "  print(\"portanto: \",aumento + salario)\n"
      ],
      "metadata": {
        "id": "tdjooq30hk3w",
        "colab": {
          "base_uri": "https://localhost:8080/"
        },
        "outputId": "2dd45764-c8ab-45c8-fa2c-b0f3025685d0"
      },
      "execution_count": 113,
      "outputs": [
        {
          "output_type": "stream",
          "name": "stdout",
          "text": [
            "qual é o seu salario ?80000\n",
            "qual o seu cargo ? \n",
            " Gerente, Engenheiro ou Tecnico :estagio\n",
            "Seu salário era , 80000.0  reais\n",
            "Seu salario aumentará em 40% : \n",
            " 32000.0\n",
            "portanto:  112000.0\n"
          ]
        }
      ]
    },
    {
      "cell_type": "code",
      "source": [],
      "metadata": {
        "id": "jmWNzT9D-sYM"
      },
      "execution_count": null,
      "outputs": []
    },
    {
      "cell_type": "code",
      "source": [],
      "metadata": {
        "id": "vDuOVDHc-sUx"
      },
      "execution_count": null,
      "outputs": []
    },
    {
      "cell_type": "code",
      "source": [],
      "metadata": {
        "id": "OhzY5DQl-sSj"
      },
      "execution_count": null,
      "outputs": []
    },
    {
      "cell_type": "code",
      "source": [],
      "metadata": {
        "id": "5OxvDsrm-sQM"
      },
      "execution_count": null,
      "outputs": []
    }
  ]
}