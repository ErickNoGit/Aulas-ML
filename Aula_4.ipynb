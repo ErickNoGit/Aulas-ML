{
  "nbformat": 4,
  "nbformat_minor": 0,
  "metadata": {
    "colab": {
      "provenance": [],
      "authorship_tag": "ABX9TyOzPCzcRSiGQrO537pKZBpy",
      "include_colab_link": true
    },
    "kernelspec": {
      "name": "python3",
      "display_name": "Python 3"
    },
    "language_info": {
      "name": "python"
    }
  },
  "cells": [
    {
      "cell_type": "markdown",
      "metadata": {
        "id": "view-in-github",
        "colab_type": "text"
      },
      "source": [
        "<a href=\"https://colab.research.google.com/github/ErickNoGit/Aulas-ML/blob/main/Aula_4.ipynb\" target=\"_parent\"><img src=\"https://colab.research.google.com/assets/colab-badge.svg\" alt=\"Open In Colab\"/></a>"
      ]
    },
    {
      "cell_type": "code",
      "execution_count": 1,
      "metadata": {
        "colab": {
          "base_uri": "https://localhost:8080/"
        },
        "id": "XOQjFv6Qts9B",
        "outputId": "ce7dff54-88f8-4759-af34-22543c9e22ad"
      },
      "outputs": [
        {
          "output_type": "stream",
          "name": "stdout",
          "text": [
            "Estamos no elemento  1\n",
            "Estamos no elemento  2\n",
            "Estamos no elemento  3\n",
            "Estamos no elemento  4\n",
            "Estamos no elemento  5\n",
            "Estamos no elemento  6\n"
          ]
        }
      ],
      "source": [
        "for elemento in [1, 2, 3, 4, 5, 6]:\n",
        "  print('Estamos no elemento ', elemento)"
      ]
    },
    {
      "cell_type": "code",
      "source": [
        "for elemento in 'STRING':\n",
        "  print('Estamos no elemento ', elemento)"
      ],
      "metadata": {
        "colab": {
          "base_uri": "https://localhost:8080/"
        },
        "id": "hjiUdjJstwne",
        "outputId": "a7fcf1ce-1b9d-4da5-b103-352b5536ed51"
      },
      "execution_count": 2,
      "outputs": [
        {
          "output_type": "stream",
          "name": "stdout",
          "text": [
            "Estamos no elemento  S\n",
            "Estamos no elemento  T\n",
            "Estamos no elemento  R\n",
            "Estamos no elemento  I\n",
            "Estamos no elemento  N\n",
            "Estamos no elemento  G\n"
          ]
        }
      ]
    },
    {
      "cell_type": "code",
      "source": [
        "for elemento in range(len('STRING')):\n",
        "  print('estamos no elemento ', elemento)"
      ],
      "metadata": {
        "colab": {
          "base_uri": "https://localhost:8080/"
        },
        "id": "2vhiENchtwlG",
        "outputId": "00216b02-0239-404d-ff30-62ad6b2aba4a"
      },
      "execution_count": 3,
      "outputs": [
        {
          "output_type": "stream",
          "name": "stdout",
          "text": [
            "estamos no elemento  0\n",
            "estamos no elemento  1\n",
            "estamos no elemento  2\n",
            "estamos no elemento  3\n",
            "estamos no elemento  4\n",
            "estamos no elemento  5\n"
          ]
        }
      ]
    },
    {
      "cell_type": "code",
      "source": [
        "elemento = 0\n",
        "while elemento <= len([1, 2, 3, 4, 5, 6]):\n",
        "  print('Estamos no elemento ', elemento)\n",
        "  elemento += 1"
      ],
      "metadata": {
        "colab": {
          "base_uri": "https://localhost:8080/"
        },
        "id": "28gmXyshxz1-",
        "outputId": "73a69333-7939-428c-f4c1-2aad950f7de0"
      },
      "execution_count": 5,
      "outputs": [
        {
          "output_type": "stream",
          "name": "stdout",
          "text": [
            "Estamos no elemento  0\n",
            "Estamos no elemento  1\n",
            "Estamos no elemento  2\n",
            "Estamos no elemento  3\n",
            "Estamos no elemento  4\n",
            "Estamos no elemento  5\n",
            "Estamos no elemento  6\n"
          ]
        }
      ]
    },
    {
      "cell_type": "code",
      "source": [
        "s = 'STRING'\n",
        "indice = 0 \n",
        "while indice in range (len(s)):\n",
        "  print('Estamos no elemento ', s[indice])\n",
        "  indice +=1"
      ],
      "metadata": {
        "colab": {
          "base_uri": "https://localhost:8080/"
        },
        "id": "5epk2iCSxzzu",
        "outputId": "e96c2ff3-71fb-436e-aaba-1163b1ca9d19"
      },
      "execution_count": 8,
      "outputs": [
        {
          "output_type": "stream",
          "name": "stdout",
          "text": [
            "Estamos no elemento  S\n",
            "Estamos no elemento  T\n",
            "Estamos no elemento  R\n",
            "Estamos no elemento  I\n",
            "Estamos no elemento  N\n",
            "Estamos no elemento  G\n"
          ]
        }
      ]
    },
    {
      "cell_type": "code",
      "source": [
        "palavra = 'tranquilo'\n",
        "for indice, letra in enumerate(palavra):\n",
        "  print(indice, letra)"
      ],
      "metadata": {
        "colab": {
          "base_uri": "https://localhost:8080/"
        },
        "id": "aqXrPH5DxzxW",
        "outputId": "c40ebde6-efe5-4fdb-991d-1aa86bd582fd"
      },
      "execution_count": 11,
      "outputs": [
        {
          "output_type": "stream",
          "name": "stdout",
          "text": [
            "0 t\n",
            "1 r\n",
            "2 a\n",
            "3 n\n",
            "4 q\n",
            "5 u\n",
            "6 i\n",
            "7 l\n",
            "8 o\n"
          ]
        }
      ]
    },
    {
      "cell_type": "code",
      "source": [
        "lista = ['cat', 'sleep', 'repeat']\n",
        "palavra = 'geek' "
      ],
      "metadata": {
        "id": "Tp0A7KWIxzuo"
      },
      "execution_count": 12,
      "outputs": []
    },
    {
      "cell_type": "code",
      "source": [
        "objeto1 = enumerate(lista)\n",
        "objeto2 = enumerate(palavra)"
      ],
      "metadata": {
        "id": "59COEGKSxzsG"
      },
      "execution_count": 14,
      "outputs": []
    },
    {
      "cell_type": "code",
      "source": [
        "print(\"tipo : \", type(objeto1))\n",
        "print(list(enumerate(lista)))"
      ],
      "metadata": {
        "colab": {
          "base_uri": "https://localhost:8080/"
        },
        "id": "GO0cIITk2dWe",
        "outputId": "adc25078-80f1-4414-a4bc-21f111724423"
      },
      "execution_count": 15,
      "outputs": [
        {
          "output_type": "stream",
          "name": "stdout",
          "text": [
            "tipo :  <class 'enumerate'>\n",
            "[(0, 'cat'), (1, 'sleep'), (2, 'repeat')]\n"
          ]
        }
      ]
    },
    {
      "cell_type": "code",
      "source": [
        "print(list(enumerate(palavra, 2)))"
      ],
      "metadata": {
        "colab": {
          "base_uri": "https://localhost:8080/"
        },
        "id": "jkCAHEKx3UPe",
        "outputId": "2ee4373a-a9e7-49a3-e2a7-fdddad810014"
      },
      "execution_count": 18,
      "outputs": [
        {
          "output_type": "stream",
          "name": "stdout",
          "text": [
            "[(2, 'g'), (3, 'e'), (4, 'e'), (5, 'k')]\n"
          ]
        }
      ]
    },
    {
      "cell_type": "markdown",
      "source": [
        "quiz 1"
      ],
      "metadata": {
        "id": "ppPwod7o4CI-"
      }
    },
    {
      "cell_type": "code",
      "source": [
        "s = 'viva o python'\n",
        "for ch in s:\n",
        "  print(\"Oi\")"
      ],
      "metadata": {
        "colab": {
          "base_uri": "https://localhost:8080/"
        },
        "id": "pyd1rWcs2dT2",
        "outputId": "d863fa06-4f15-4d92-c6c8-29edebc5f3d9"
      },
      "execution_count": 22,
      "outputs": [
        {
          "output_type": "stream",
          "name": "stdout",
          "text": [
            "Oi\n",
            "Oi\n",
            "Oi\n",
            "Oi\n",
            "Oi\n",
            "Oi\n",
            "Oi\n",
            "Oi\n",
            "Oi\n",
            "Oi\n",
            "Oi\n",
            "Oi\n",
            "Oi\n"
          ]
        }
      ]
    },
    {
      "cell_type": "code",
      "source": [
        "s = 'viva o python'\n",
        "for ch in s[3:8]:\n",
        "  print(\"oi\")"
      ],
      "metadata": {
        "colab": {
          "base_uri": "https://localhost:8080/"
        },
        "id": "baDLeyoVtwiu",
        "outputId": "1d703d15-4dba-4bb0-8798-4b990cadb75b"
      },
      "execution_count": 26,
      "outputs": [
        {
          "output_type": "stream",
          "name": "stdout",
          "text": [
            "oi\n",
            "oi\n",
            "oi\n",
            "oi\n",
            "oi\n"
          ]
        }
      ]
    },
    {
      "cell_type": "markdown",
      "source": [
        "desafio 1"
      ],
      "metadata": {
        "id": "jvjnoz7XItjG"
      }
    },
    {
      "cell_type": "code",
      "source": [
        "numeros = {'pares': 0, 'impares': 0}\n",
        "\n",
        "for i in range(10):\n",
        "    num = int(input())\n",
        "\n",
        "    if num % 2 == 0:\n",
        "        numeros['pares'] += 1\n",
        "    \n",
        "    else:\n",
        "        numeros['impares'] +=1\n",
        "    \n",
        "else:\n",
        "    print(f'{numeros[\"pares\"]} números pares')\n",
        "    print(f'{numeros[\"impares\"]} números ímpares')"
      ],
      "metadata": {
        "colab": {
          "base_uri": "https://localhost:8080/"
        },
        "id": "A8m3_hvKIw_O",
        "outputId": "ae5cf56b-12b1-40f5-88f6-c5a30ab27b43"
      },
      "execution_count": 74,
      "outputs": [
        {
          "output_type": "stream",
          "name": "stdout",
          "text": [
            "2\n",
            "3\n",
            "3\n",
            "4\n",
            "6\n",
            "78\n",
            "7\n",
            "6\n",
            "1\n",
            "3\n",
            "5 números pares\n",
            "5 números ímpares\n"
          ]
        }
      ]
    },
    {
      "cell_type": "markdown",
      "source": [
        "desafio 2\n"
      ],
      "metadata": {
        "id": "U4y9bWAnDcgW"
      }
    },
    {
      "cell_type": "code",
      "source": [
        "semana = \"\"\n",
        "dia = 0\n",
        "while dia == 0:\n",
        "  semana  = input(\"qual o dia da semana ? \")\n",
        "  if semana == 'domingo' or semana == 'sabado':\n",
        "    print(\"HOJE É DIA DE DESCANSAR\")\n",
        "    break\n",
        "  else:\n",
        "    print(\"HOJE É DIA DE TRABALHAR\")"
      ],
      "metadata": {
        "colab": {
          "base_uri": "https://localhost:8080/"
        },
        "id": "df6hNET8twgW",
        "outputId": "9b96c256-6a34-4916-cfa9-86ae7ec8971f"
      },
      "execution_count": 38,
      "outputs": [
        {
          "output_type": "stream",
          "name": "stdout",
          "text": [
            "qual o dia da semana ? domingo\n",
            "HOJE É DIA DE DESCANSAR\n"
          ]
        }
      ]
    },
    {
      "cell_type": "markdown",
      "source": [
        "desafio 3\n"
      ],
      "metadata": {
        "id": "hsmQswgaDPn9"
      }
    },
    {
      "cell_type": "code",
      "source": [
        "lista = []\n",
        "for i in range(0, 2):\n",
        "  lista.append(input(\"digite um numero \"))\n",
        "  valor = int(lista[i])\n",
        "  if valor%2 == 0:\n",
        "    print(valor)\n",
        "    print('é par')\n",
        "  else:\n",
        "    print(valor*valor)\n",
        "    print('é impar')"
      ],
      "metadata": {
        "colab": {
          "base_uri": "https://localhost:8080/"
        },
        "id": "n4EUI9dW4wP2",
        "outputId": "c16982bc-e238-4f56-afbd-d4afdc861060"
      },
      "execution_count": 59,
      "outputs": [
        {
          "output_type": "stream",
          "name": "stdout",
          "text": [
            "digite um numero 3\n",
            "9\n",
            "é impar\n",
            "digite um numero 2\n",
            "2\n",
            "é par\n"
          ]
        }
      ]
    },
    {
      "cell_type": "markdown",
      "source": [
        "desafio 4\n"
      ],
      "metadata": {
        "id": "2G-x9oauDZc-"
      }
    },
    {
      "cell_type": "code",
      "source": [
        "palavra = input()\n",
        "\n",
        "for index, letra in enumerate(palavra):\n",
        "    if letra in ['a', 'e', 'i', 'o', 'u']:\n",
        "        print(f'Letra: {letra} - Index: {index}')"
      ],
      "metadata": {
        "colab": {
          "base_uri": "https://localhost:8080/"
        },
        "id": "JfCNMiFB4wM2",
        "outputId": "cc71b3e0-b929-4cd7-8ca2-4613c6b42d60"
      },
      "execution_count": 75,
      "outputs": [
        {
          "name": "stdout",
          "output_type": "stream",
          "text": [
            "s\n"
          ]
        }
      ]
    },
    {
      "cell_type": "markdown",
      "source": [
        "prática\n"
      ],
      "metadata": {
        "id": "6_NT6Tz0Djj-"
      }
    },
    {
      "cell_type": "code",
      "source": [
        "for  nome in ['Reginaldo', 'Gisele Pintcher', 'Scoob', 'Marlene', 'Zezinho', 'Cibele', 'Suely']:\n",
        "  convite = (\"Oi, \"+ nome + \"! por favor, venha para o sábado pet em minha casa\")\n",
        "  print(convite)"
      ],
      "metadata": {
        "colab": {
          "base_uri": "https://localhost:8080/"
        },
        "id": "5FEG94Ol4wKG",
        "outputId": "0e62016e-ef71-4cbc-bfa5-b1ff11263a74"
      },
      "execution_count": 60,
      "outputs": [
        {
          "output_type": "stream",
          "name": "stdout",
          "text": [
            "Oi, Reginaldo! por favor, venha para o sábado pet em minha casa\n",
            "Oi, Gisele Pintcher! por favor, venha para o sábado pet em minha casa\n",
            "Oi, Scoob! por favor, venha para o sábado pet em minha casa\n",
            "Oi, Marlene! por favor, venha para o sábado pet em minha casa\n",
            "Oi, Zezinho! por favor, venha para o sábado pet em minha casa\n",
            "Oi, Cibele! por favor, venha para o sábado pet em minha casa\n",
            "Oi, Suely! por favor, venha para o sábado pet em minha casa\n"
          ]
        }
      ]
    },
    {
      "cell_type": "code",
      "source": [
        "for fruta in ['Morango', 'maçã', 'pera', 'melão', 'jaca']:\n",
        " print('Morango' in fruta)\n"
      ],
      "metadata": {
        "colab": {
          "base_uri": "https://localhost:8080/"
        },
        "id": "2TlUbsrb4wFe",
        "outputId": "caf177f5-a61e-4a46-8b8f-e98ec43c7c1d"
      },
      "execution_count": 63,
      "outputs": [
        {
          "output_type": "stream",
          "name": "stdout",
          "text": [
            "True\n",
            "False\n",
            "False\n",
            "False\n",
            "False\n"
          ]
        }
      ]
    },
    {
      "cell_type": "code",
      "source": [
        "for numero in range(100, 151):\n",
        "  if numero%2 == 0:\n",
        "    print(numero)"
      ],
      "metadata": {
        "colab": {
          "base_uri": "https://localhost:8080/"
        },
        "id": "GX5vC8YKEmtd",
        "outputId": "d70a0573-3c49-4635-82ea-492d7f6a2d5b"
      },
      "execution_count": 66,
      "outputs": [
        {
          "output_type": "stream",
          "name": "stdout",
          "text": [
            "100\n",
            "102\n",
            "104\n",
            "106\n",
            "108\n",
            "110\n",
            "112\n",
            "114\n",
            "116\n",
            "118\n",
            "120\n",
            "122\n",
            "124\n",
            "126\n",
            "128\n",
            "130\n",
            "132\n",
            "134\n",
            "136\n",
            "138\n",
            "140\n",
            "142\n",
            "144\n",
            "146\n",
            "148\n",
            "150\n"
          ]
        }
      ]
    },
    {
      "cell_type": "code",
      "source": [
        "temperatura = 40\n",
        "while temperatura > 25:\n",
        "  print(temperatura)\n",
        "  temperatura -= 1"
      ],
      "metadata": {
        "colab": {
          "base_uri": "https://localhost:8080/"
        },
        "id": "p_K4ezZFEmrF",
        "outputId": "928ef9df-0f0b-4e87-b171-3dd0de3f78ca"
      },
      "execution_count": 72,
      "outputs": [
        {
          "output_type": "stream",
          "name": "stdout",
          "text": [
            "40\n",
            "39\n",
            "38\n",
            "37\n",
            "36\n",
            "35\n",
            "34\n",
            "33\n",
            "32\n",
            "31\n",
            "30\n",
            "29\n",
            "28\n",
            "27\n",
            "26\n"
          ]
        }
      ]
    },
    {
      "cell_type": "code",
      "source": [
        "for um_char in \"vamos a festa\":\n",
        "  print(um_char)"
      ],
      "metadata": {
        "colab": {
          "base_uri": "https://localhost:8080/"
        },
        "id": "jbu6oahzEmo2",
        "outputId": "5c6f7779-497c-4610-a164-79aa322890f4"
      },
      "execution_count": 73,
      "outputs": [
        {
          "output_type": "stream",
          "name": "stdout",
          "text": [
            "v\n",
            "a\n",
            "m\n",
            "o\n",
            "s\n",
            " \n",
            "a\n",
            " \n",
            "f\n",
            "e\n",
            "s\n",
            "t\n",
            "a\n"
          ]
        }
      ]
    }
  ]
}